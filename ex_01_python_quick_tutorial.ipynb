{
 "cells": [
  {
   "cell_type": "code",
   "execution_count": 1,
   "id": "f6bc9fdc",
   "metadata": {},
   "outputs": [
    {
     "name": "stdout",
     "output_type": "stream",
     "text": [
      "byebye python\n"
     ]
    }
   ],
   "source": [
    "print(\"byebye python\")"
   ]
  },
  {
   "cell_type": "code",
   "execution_count": 2,
   "id": "544369ea",
   "metadata": {},
   "outputs": [
    {
     "name": "stdout",
     "output_type": "stream",
     "text": [
      "LHY  WMZ\n"
     ]
    }
   ],
   "source": [
    "print(\"LHY  WMZ\")"
   ]
  },
  {
   "cell_type": "code",
   "execution_count": 3,
   "id": "5d933395",
   "metadata": {},
   "outputs": [
    {
     "name": "stdout",
     "output_type": "stream",
     "text": [
      "--------------------------------------------------\n"
     ]
    }
   ],
   "source": [
    "print(\"-\"*50)"
   ]
  },
  {
   "cell_type": "code",
   "execution_count": 4,
   "id": "46571256",
   "metadata": {},
   "outputs": [
    {
     "name": "stdout",
     "output_type": "stream",
     "text": [
      "edg牛逼\n"
     ]
    }
   ],
   "source": [
    "print(\"edg牛逼\")"
   ]
  },
  {
   "cell_type": "code",
   "execution_count": 7,
   "id": "213d767e",
   "metadata": {},
   "outputs": [
    {
     "name": "stdout",
     "output_type": "stream",
     "text": [
      "24\n"
     ]
    }
   ],
   "source": [
    "print(12+12)"
   ]
  },
  {
   "cell_type": "code",
   "execution_count": 8,
   "id": "e31b5361",
   "metadata": {},
   "outputs": [
    {
     "name": "stdout",
     "output_type": "stream",
     "text": [
      "60\n"
     ]
    }
   ],
   "source": [
    "print(80-20)"
   ]
  },
  {
   "cell_type": "code",
   "execution_count": 9,
   "id": "fc315c4b",
   "metadata": {},
   "outputs": [
    {
     "name": "stdout",
     "output_type": "stream",
     "text": [
      "36\n"
     ]
    }
   ],
   "source": [
    "print(6*6)"
   ]
  },
  {
   "cell_type": "code",
   "execution_count": 11,
   "id": "eb15196f",
   "metadata": {},
   "outputs": [
    {
     "name": "stdout",
     "output_type": "stream",
     "text": [
      "9.0\n"
     ]
    }
   ],
   "source": [
    "print(72/8)"
   ]
  },
  {
   "cell_type": "code",
   "execution_count": 12,
   "id": "592096fe",
   "metadata": {},
   "outputs": [
    {
     "name": "stdout",
     "output_type": "stream",
     "text": [
      "1\n"
     ]
    }
   ],
   "source": [
    "print(5//3)"
   ]
  },
  {
   "cell_type": "code",
   "execution_count": 13,
   "id": "be33e01a",
   "metadata": {},
   "outputs": [
    {
     "name": "stdout",
     "output_type": "stream",
     "text": [
      "2\n"
     ]
    }
   ],
   "source": [
    "print(5%3)"
   ]
  },
  {
   "cell_type": "code",
   "execution_count": 14,
   "id": "c23cce4b",
   "metadata": {},
   "outputs": [
    {
     "name": "stdout",
     "output_type": "stream",
     "text": [
      "729\n"
     ]
    }
   ],
   "source": [
    "print(9**3)"
   ]
  },
  {
   "cell_type": "code",
   "execution_count": 15,
   "id": "b4ca50fa",
   "metadata": {},
   "outputs": [
    {
     "name": "stdout",
     "output_type": "stream",
     "text": [
      "True\n"
     ]
    }
   ],
   "source": [
    "print(5==5)"
   ]
  },
  {
   "cell_type": "code",
   "execution_count": 16,
   "id": "e3cddd2d",
   "metadata": {},
   "outputs": [
    {
     "name": "stdout",
     "output_type": "stream",
     "text": [
      "55\n"
     ]
    }
   ],
   "source": [
    "x=5\n",
    "func=5*x+30\n",
    "print(func)"
   ]
  },
  {
   "cell_type": "code",
   "execution_count": 80,
   "id": "416bb965",
   "metadata": {},
   "outputs": [
    {
     "name": "stdout",
     "output_type": "stream",
     "text": [
      "monadic_equation= 55.0\n",
      "monadic_equation=55.00\n",
      "monadic_equation=55.00\n"
     ]
    }
   ],
   "source": [
    "x=5.0\n",
    "monadic_equation=5*x+30\n",
    "print(\"monadic_equation=\",monadic_equation)\n",
    "print(\"monadic_equation=%.2f\"%monadic_equation)\n",
    "print(\"monadic_equation={:.2f}\".format(monadic_equation))"
   ]
  },
  {
   "cell_type": "code",
   "execution_count": 22,
   "id": "70a5ff2b",
   "metadata": {},
   "outputs": [
    {
     "name": "stdout",
     "output_type": "stream",
     "text": [
      "The longitude of the los sants coordinate is 84.28, and the latitude is 40.3642082.\n"
     ]
    }
   ],
   "source": [
    "city_name=\"los sants\"\n",
    "coordinate_longitude=84.283946\n",
    "coordiante_latitude=40.3642082\n",
    "print(\"The longitude of the los sants coordinate is {lon:.2f}, and the latitude is {lat}.\".format(lon=coordinate_longitude,lat=coordiante_latitude))"
   ]
  },
  {
   "cell_type": "code",
   "execution_count": 28,
   "id": "6ae5a178",
   "metadata": {},
   "outputs": [
    {
     "name": "stdout",
     "output_type": "stream",
     "text": [
      "func_2=4\n"
     ]
    }
   ],
   "source": [
    "x,y,b=4,6,9\n",
    "func_2=4*x+10*y+b\n",
    "print(\"func_2={}\".format(x,y,b,func_2))"
   ]
  },
  {
   "cell_type": "code",
   "execution_count": 83,
   "id": "50c1ade9",
   "metadata": {},
   "outputs": [
    {
     "name": "stdout",
     "output_type": "stream",
     "text": [
      "[5, 8, 11, 14, 17, 20, 23, 26, 29]\n",
      "The list length=9\n",
      "Maximum value=29\n",
      "Minimum value=5\n"
     ]
    }
   ],
   "source": [
    "lst_n=list(range(5,30,3))\n",
    "print(lst_n)\n",
    "print(\"The list length={}\".format(len(lst_n)))\n",
    "print(\"Maximum value={}\".format(max(lst_n)))\n",
    "print(\"Minimum value={}\".format(min(lst_n)))\n"
   ]
  },
  {
   "cell_type": "code",
   "execution_count": 40,
   "id": "4c5ecd8e",
   "metadata": {},
   "outputs": [
    {
     "name": "stdout",
     "output_type": "stream",
     "text": [
      "['æ', 'ç', 'è', 'é', 'ê', 'ë', 'ì', 'í', 'î', 'ï']\n",
      "[4:7]->['ê', 'ë', 'ì']\n",
      "[-7:-1]->['é', 'ê', 'ë', 'ì', 'í', 'î']\n",
      "[-9:]->['ç', 'è', 'é', 'ê', 'ë', 'ì', 'í', 'î', 'ï']\n",
      "[:1]->['æ']\n",
      "[:]->['æ', 'ç', 'è', 'é', 'ê', 'ë', 'ì', 'í', 'î', 'ï']\n"
     ]
    }
   ],
   "source": [
    "lst_s=list(map(chr,range(230,240)))\n",
    "print(lst_s)\n",
    "print(\"[4:7]->{}\".format(lst_s[4:7]))\n",
    "print(\"[-7:-1]->{}\".format(lst_s[-7:-1]))\n",
    "print(\"[-9:]->{}\".format(lst_s[-9:]))\n",
    "print(\"[:1]->{}\".format(lst_s[:1]))\n",
    "print(\"[:]->{}\".format(lst_s[:]))"
   ]
  },
  {
   "cell_type": "code",
   "execution_count": 43,
   "id": "5faa14d6",
   "metadata": {},
   "outputs": [
    {
     "name": "stdout",
     "output_type": "stream",
     "text": [
      "Help on class map in module builtins:\n",
      "\n",
      "class map(object)\n",
      " |  map(func, *iterables) --> map object\n",
      " |  \n",
      " |  Make an iterator that computes the function using arguments from\n",
      " |  each of the iterables.  Stops when the shortest iterable is exhausted.\n",
      " |  \n",
      " |  Methods defined here:\n",
      " |  \n",
      " |  __getattribute__(self, name, /)\n",
      " |      Return getattr(self, name).\n",
      " |  \n",
      " |  __iter__(self, /)\n",
      " |      Implement iter(self).\n",
      " |  \n",
      " |  __next__(self, /)\n",
      " |      Implement next(self).\n",
      " |  \n",
      " |  __reduce__(...)\n",
      " |      Return state information for pickling.\n",
      " |  \n",
      " |  ----------------------------------------------------------------------\n",
      " |  Static methods defined here:\n",
      " |  \n",
      " |  __new__(*args, **kwargs) from builtins.type\n",
      " |      Create and return a new object.  See help(type) for accurate signature.\n",
      "\n"
     ]
    }
   ],
   "source": [
    "help(map)"
   ]
  },
  {
   "cell_type": "code",
   "execution_count": 11,
   "id": "6bb3b2d0",
   "metadata": {},
   "outputs": [
    {
     "ename": "NameError",
     "evalue": "name 'lst_s' is not defined",
     "output_type": "error",
     "traceback": [
      "\u001b[1;31m---------------------------------------------------------------------------\u001b[0m",
      "\u001b[1;31mNameError\u001b[0m                                 Traceback (most recent call last)",
      "\u001b[1;32m<ipython-input-11-8bae85f133bb>\u001b[0m in \u001b[0;36m<module>\u001b[1;34m\u001b[0m\n\u001b[1;32m----> 1\u001b[1;33m \u001b[0mprint\u001b[0m\u001b[1;33m(\u001b[0m\u001b[0mlst_s\u001b[0m\u001b[1;33m)\u001b[0m\u001b[1;33m\u001b[0m\u001b[1;33m\u001b[0m\u001b[0m\n\u001b[0m\u001b[0;32m      2\u001b[0m \u001b[0mprint\u001b[0m\u001b[1;33m(\u001b[0m\u001b[1;34m\"[1:9:2]->{}\"\u001b[0m\u001b[1;33m.\u001b[0m\u001b[0mformat\u001b[0m\u001b[1;33m(\u001b[0m\u001b[0mlst_s\u001b[0m\u001b[1;33m[\u001b[0m\u001b[1;36m1\u001b[0m\u001b[1;33m:\u001b[0m\u001b[1;36m9\u001b[0m\u001b[1;33m:\u001b[0m\u001b[1;36m2\u001b[0m\u001b[1;33m]\u001b[0m\u001b[1;33m)\u001b[0m\u001b[1;33m)\u001b[0m\u001b[1;33m\u001b[0m\u001b[1;33m\u001b[0m\u001b[0m\n\u001b[0;32m      3\u001b[0m \u001b[0mprint\u001b[0m\u001b[1;33m(\u001b[0m\u001b[1;34m\"[::7]->{}\"\u001b[0m\u001b[1;33m.\u001b[0m\u001b[0mformat\u001b[0m\u001b[1;33m(\u001b[0m\u001b[0mlst_s\u001b[0m\u001b[1;33m[\u001b[0m\u001b[1;33m:\u001b[0m\u001b[1;33m:\u001b[0m\u001b[1;36m7\u001b[0m\u001b[1;33m]\u001b[0m\u001b[1;33m)\u001b[0m\u001b[1;33m)\u001b[0m\u001b[1;33m\u001b[0m\u001b[1;33m\u001b[0m\u001b[0m\n\u001b[0;32m      4\u001b[0m \u001b[0mprint\u001b[0m\u001b[1;33m(\u001b[0m\u001b[1;34m\"[9:2:-3]->{}\"\u001b[0m\u001b[1;33m.\u001b[0m\u001b[0mformat\u001b[0m\u001b[1;33m(\u001b[0m\u001b[0mlst_s\u001b[0m\u001b[1;33m[\u001b[0m\u001b[1;36m9\u001b[0m\u001b[1;33m:\u001b[0m\u001b[1;36m2\u001b[0m\u001b[1;33m:\u001b[0m\u001b[1;33m-\u001b[0m\u001b[1;36m3\u001b[0m\u001b[1;33m]\u001b[0m\u001b[1;33m)\u001b[0m\u001b[1;33m)\u001b[0m\u001b[1;33m\u001b[0m\u001b[1;33m\u001b[0m\u001b[0m\n\u001b[0;32m      5\u001b[0m \u001b[0mprint\u001b[0m\u001b[1;33m(\u001b[0m\u001b[1;34m\"[18:4:-2]->{}\"\u001b[0m\u001b[1;33m.\u001b[0m\u001b[0mformat\u001b[0m\u001b[1;33m(\u001b[0m\u001b[0mlst_s\u001b[0m\u001b[1;33m[\u001b[0m\u001b[1;36m18\u001b[0m\u001b[1;33m:\u001b[0m\u001b[1;36m4\u001b[0m\u001b[1;33m:\u001b[0m\u001b[1;33m-\u001b[0m\u001b[1;36m2\u001b[0m\u001b[1;33m]\u001b[0m\u001b[1;33m)\u001b[0m\u001b[1;33m)\u001b[0m\u001b[1;33m\u001b[0m\u001b[1;33m\u001b[0m\u001b[0m\n",
      "\u001b[1;31mNameError\u001b[0m: name 'lst_s' is not defined"
     ]
    }
   ],
   "source": [
    "print(lst_s)\n",
    "print(\"[1:9:2]->{}\".format(lst_s[1:9:2]))\n",
    "print(\"[::7]->{}\".format(lst_s[::7]))\n",
    "print(\"[9:2:-3]->{}\".format(lst_s[9:2:-3]))\n",
    "print(\"[18:4:-2]->{}\".format(lst_s[18:4:-2]))\n",
    "print(\"[9::-3]->{}\".format(lst_s[9::-3]))\n",
    "print(\"[:3:-2]->{}\".format(lst_s[:3:-2]))"
   ]
  },
  {
   "cell_type": "code",
   "execution_count": 84,
   "id": "c60b7f55",
   "metadata": {},
   "outputs": [
    {
     "name": "stdout",
     "output_type": "stream",
     "text": [
      "['æ', 'ç', 'è', 'é', 'ê', 'ë', 99, 'í', 'î', 'ï']\n",
      "lst_s[6]=99->['æ', 'ç', 'è', 'é', 'ê', 'ë', 99, 'í', 'î', 'ï']\n",
      "lst_s+[None]*5->['æ', 'ç', 'è', 'é', 'ê', 'ë', 99, 'í', 'î', 'ï', None, None, None, None, None, None, None, None, None, None, None, None, None, None, None, None, None, None, None, None, None, None, None, None, None, None, None, None, None, None, None, None, None, None, None, None, None, None, None, None, None, None, None, None, None, None, None, None, None, None]\n",
      "lst_none[10]=2050->['æ', 'ç', 'è', 'é', 'ê', 'ë', 99, 'í', 'î', 'ï', 2050, None, None, None, None, None, None, None, None, None, None, None, None, None, None, None, None, None, None, None, None, None, None, None, None, None, None, None, None, None, None, None, None, None, None, None, None, None, None, None, None, None, None, None, None, None, None, None, None, None]\n",
      "lst_none[-6:-3]=list(range(100,104,2))->['æ', 'ç', 'è', 'é', 'ê', 'ë', 99, 'í', 'î', 'ï', 2050, None, None, None, None, None, None, None, None, None, None, None, None, None, None, None, None, None, None, None, None, None, None, None, None, None, None, None, None, None, None, None, None, None, None, None, None, None, None, None, None, None, None, None, None, 100, 102, None, None]\n",
      "lst_none[1:1]=[1,1,1,12]->['æ', 0, 0, 0, 12, 'ç', 'è', 'é', 'ê', 'ë', 99, 'í', 'î', 'ï', 2050, None, None, None, None, None, None, None, None, None, None, None, None, None, None, None, None, None, None, None, None, None, None, None, None, None, None, None, None, None, None, None, None, None, None, None, None, None, None, None, None, None, None, None, None, 100, 102, None, None]\n",
      "del lst_none[-3:]->['æ', 0, 0, 0, 12, 'ç', 'è', 'é', 'ê', 'ë', 99, 'í', 'î', 'ï', 2050, None, None, None, None, None, None, None, None, None, None, None, None, None, None, None, None, None, None, None, None, None, None, None, None, None, None, None, None, None, None, None, None, None, None, None, None, None, None, None, None, None, None, None]\n"
     ]
    }
   ],
   "source": [
    "print(lst_s)\n",
    "lst_s[6]=99\n",
    "print(\"lst_s[6]=99->{}\".format(lst_s))\n",
    "lst_none=lst_s+[None]*50\n",
    "print(\"lst_s+[None]*5->{}\".format(lst_none))\n",
    "lst_none[10]=2050\n",
    "print(\"lst_none[10]=2050->{}\".format(lst_none))\n",
    "lst_none[-5:-2]=list(range(100,104,2))\n",
    "print(\"lst_none[-6:-3]=list(range(100,104,2))->{}\".format(lst_none))\n",
    "lst_none[1:1]=[0,0,0,12]\n",
    "print(\"lst_none[1:1]=[1,1,1,12]->{}\".format(lst_none))\n",
    "del lst_none[-5:]\n",
    "print(\"del lst_none[-3:]->{}\".format(lst_none))"
   ]
  },
  {
   "cell_type": "code",
   "execution_count": 51,
   "id": "20b0c229",
   "metadata": {},
   "outputs": [
    {
     "name": "stdout",
     "output_type": "stream",
     "text": [
      "['x', 'y', 'z', '{', '|']\n",
      "lst_s_2.append(119)->['x', 'y', 'z', '{', '|', 119]\n",
      "lst_s_2.append(list(range(60,80,5)))->['x', 'y', 'z', '{', '|', 119, [60, 65, 70, 75]]\n",
      "lst_s_2.extend(lst_spechars)->['x', 'y', 'z', '{', '|', 119, [60, 65, 70, 75], '*', ')', '*']\n",
      "lst_s_2.count('*')=2\n"
     ]
    },
    {
     "ename": "ValueError",
     "evalue": "'e' is not in list",
     "output_type": "error",
     "traceback": [
      "\u001b[1;31m---------------------------------------------------------------------------\u001b[0m",
      "\u001b[1;31mValueError\u001b[0m                                Traceback (most recent call last)",
      "\u001b[1;32m<ipython-input-51-e4452ace127b>\u001b[0m in \u001b[0;36m<module>\u001b[1;34m\u001b[0m\n\u001b[0;32m      9\u001b[0m \u001b[0mprint\u001b[0m\u001b[1;33m(\u001b[0m\u001b[1;34m\"lst_s_2.extend(lst_spechars)->{}\"\u001b[0m\u001b[1;33m.\u001b[0m\u001b[0mformat\u001b[0m\u001b[1;33m(\u001b[0m\u001b[0mlst_s_2\u001b[0m\u001b[1;33m)\u001b[0m\u001b[1;33m)\u001b[0m\u001b[1;33m\u001b[0m\u001b[1;33m\u001b[0m\u001b[0m\n\u001b[0;32m     10\u001b[0m \u001b[0mprint\u001b[0m\u001b[1;33m(\u001b[0m\u001b[1;34m\"lst_s_2.count('*')={}\"\u001b[0m\u001b[1;33m.\u001b[0m\u001b[0mformat\u001b[0m\u001b[1;33m(\u001b[0m\u001b[0mlst_s_2\u001b[0m\u001b[1;33m.\u001b[0m\u001b[0mcount\u001b[0m\u001b[1;33m(\u001b[0m\u001b[1;34m'*'\u001b[0m\u001b[1;33m)\u001b[0m\u001b[1;33m)\u001b[0m\u001b[1;33m)\u001b[0m\u001b[1;33m\u001b[0m\u001b[1;33m\u001b[0m\u001b[0m\n\u001b[1;32m---> 11\u001b[1;33m \u001b[0mprint\u001b[0m\u001b[1;33m(\u001b[0m\u001b[1;34m\"lst_s_2.index('e')={}\"\u001b[0m\u001b[1;33m.\u001b[0m\u001b[0mformat\u001b[0m\u001b[1;33m(\u001b[0m\u001b[0mlst_s_2\u001b[0m\u001b[1;33m.\u001b[0m\u001b[0mindex\u001b[0m\u001b[1;33m(\u001b[0m\u001b[1;34m'e'\u001b[0m\u001b[1;33m)\u001b[0m\u001b[1;33m)\u001b[0m\u001b[1;33m)\u001b[0m\u001b[1;33m\u001b[0m\u001b[1;33m\u001b[0m\u001b[0m\n\u001b[0m\u001b[0;32m     12\u001b[0m \u001b[0mlst_s_2\u001b[0m\u001b[1;33m.\u001b[0m\u001b[0minsert\u001b[0m\u001b[1;33m(\u001b[0m\u001b[1;36m2\u001b[0m\u001b[1;33m,\u001b[0m\u001b[1;33m[\u001b[0m\u001b[1;36m1000\u001b[0m\u001b[1;33m,\u001b[0m\u001b[1;36m1200\u001b[0m\u001b[1;33m,\u001b[0m\u001b[1;36m1500\u001b[0m\u001b[1;33m]\u001b[0m\u001b[1;33m)\u001b[0m\u001b[1;33m\u001b[0m\u001b[1;33m\u001b[0m\u001b[0m\n\u001b[0;32m     13\u001b[0m \u001b[0mprint\u001b[0m\u001b[1;33m(\u001b[0m\u001b[1;34m\"lst_s_2.insert(2,[1000,1200,1500])->{}\"\u001b[0m\u001b[1;33m.\u001b[0m\u001b[0mformat\u001b[0m\u001b[1;33m(\u001b[0m\u001b[0mlst_s_2\u001b[0m\u001b[1;33m)\u001b[0m\u001b[1;33m)\u001b[0m\u001b[1;33m\u001b[0m\u001b[1;33m\u001b[0m\u001b[0m\n",
      "\u001b[1;31mValueError\u001b[0m: 'e' is not in list"
     ]
    }
   ],
   "source": [
    "lst_s_2=list(map(chr,range(120,125)))\n",
    "print(lst_s_2)\n",
    "lst_s_2.append(119)\n",
    "print(\"lst_s_2.append(119)->{}\".format(lst_s_2))\n",
    "lst_s_2.append(list(range(60,80,5)))\n",
    "print(\"lst_s_2.append(list(range(60,80,5)))->{}\".format(lst_s_2))\n",
    "lst_spechars=['*',')','*']\n",
    "lst_s_2.extend(lst_spechars)\n",
    "print(\"lst_s_2.extend(lst_spechars)->{}\".format(lst_s_2))\n",
    "print(\"lst_s_2.count('*')={}\".format(lst_s_2.count('*')))\n",
    "print(\"lst_s_2.index('e')={}\".format(lst_s_2.index('e')))\n",
    "lst_s_2.insert(2,[1000,1200,1500])\n",
    "print(\"lst_s_2.insert(2,[1000,1200,1500])->{}\".format(lst_s_2))\n",
    "print(\"lst_s_2.pop(7)_popup->{}\".format(lst_s_2.pop(7)))\n",
    "print(\"lst_s_2.pop(7)_retention->{}\".format(lst_s_2))\n",
    "lst_s_2.remove('*')\n",
    "print(\"lst_s_2.remove('*')_retention->{}\".format(lst_s_2))\n",
    "list_n_2=[2,42,6,95,4,3]\n",
    "list_n_2.sort()\n",
    "print(\"list_n_2.sort()->{}\".format(list_n_2))"
   ]
  },
  {
   "cell_type": "code",
   "execution_count": 52,
   "id": "fe40b976",
   "metadata": {},
   "outputs": [
    {
     "name": "stdout",
     "output_type": "stream",
     "text": [
      "tuple_1=4,7,9,->(4, 7, 9)\n",
      "6*(24*6,)->(144, 144, 144, 144, 144, 144)\n",
      "tuple((6,7,8))->(6, 7, 8)\n",
      "tuple([6,7,8])->(6, 7, 8)\n"
     ]
    }
   ],
   "source": [
    "tuple_1=4,7,9,\n",
    "print(\"tuple_1=4,7,9,->{}\".format(tuple_1))\n",
    "print(\"6*(24*6,)->{}\".format(6*(24*6,)))\n",
    "print(\"tuple((6,7,8))->{}\".format(tuple((6,7,8))))\n",
    "print(\"tuple([6,7,8])->{}\".format(tuple([6,7,8])))"
   ]
  },
  {
   "cell_type": "code",
   "execution_count": 54,
   "id": "48ab1cdf",
   "metadata": {},
   "outputs": [
    {
     "name": "stdout",
     "output_type": "stream",
     "text": [
      "items->[(1, [0, 1, 2, 3, 4, 5, 6, 7, 8]), (1, [[434, 381, 368, 369]]), (2, 'python')]\n",
      "dic=dict(items)->{1: [[434, 381, 368, 369]], 2: 'python'}\n",
      "dic[1]->[[434, 381, 368, 369]]\n"
     ]
    }
   ],
   "source": [
    "import random\n",
    "items=[(1,[i for i in range(9)]),(1,[random.sample(list(range(340,440,1)),4)]),(2,'python')]\n",
    "print(\"items->{}\".format(items))\n",
    "dic=dict(items)\n",
    "print(\"dic=dict(items)->{}\".format(dic))\n",
    "print(\"dic[1]->{}\".format(dic[1]))"
   ]
  },
  {
   "cell_type": "code",
   "execution_count": 57,
   "id": "a34082b7",
   "metadata": {},
   "outputs": [
    {
     "name": "stdout",
     "output_type": "stream",
     "text": [
      "len(dic)->2\n",
      "dic[4]=(random.random(),random.uniform(378,748))->{2: 'python', 4: (0.750162155602672, 582.9255012808735)}\n",
      "del dic[4]->{2: 'python'}\n",
      "4 in dic->False\n",
      "6 in dic->False\n",
      "dic.keys()->dict_keys([2])\n",
      "dic.values()->dict_values(['python'])\n",
      "dic.items()->dict_items([(2, 'python')])\n",
      "list(dic.keys())->[2]\n"
     ]
    }
   ],
   "source": [
    "print(\"len(dic)->{}\".format(len(dic)))\n",
    "dic[4]=(random.random(),random.uniform(378,748))\n",
    "print(\"dic[4]=(random.random(),random.uniform(378,748))->{}\".format(dic))\n",
    "del dic[4]\n",
    "print(\"del dic[4]->{}\".format(dic))\n",
    "print(\"4 in dic->{}\".format(4 in dic))\n",
    "print(\"6 in dic->{}\".format(6 in dic))\n",
    "print(\"dic.keys()->{}\".format(dic.keys()))\n",
    "print(\"dic.values()->{}\".format(dic.values()))\n",
    "print(\"dic.items()->{}\".format(dic.items()))\n",
    "print(\"list(dic.keys())->{}\".format(list(dic.keys())))"
   ]
  },
  {
   "cell_type": "code",
   "execution_count": 58,
   "id": "49c654af",
   "metadata": {},
   "outputs": [
    {
     "name": "stdout",
     "output_type": "stream",
     "text": [
      "0 (2, 'python')\n"
     ]
    }
   ],
   "source": [
    "for k,v in enumerate(dic.items()):\n",
    "    print(k,v)"
   ]
  },
  {
   "cell_type": "code",
   "execution_count": 66,
   "id": "cbce66c6",
   "metadata": {},
   "outputs": [
    {
     "name": "stdout",
     "output_type": "stream",
     "text": [
      "lst_A=[4, 6, 8, 10, 12, 14, 16, 18],lst_B=[200, 210, 220, 230, 240]\n",
      "dic_2={0: [4, 6, 8, 10, 12, 14, 16, 18], 1: [200, 210, 220, 230, 240]}\n",
      "dic_assignment={0: [4, 6, 8, 10, 12, 14, 16, 18], 1: [200, 210, 220, 230, 240]}\n",
      "dic_2.clear()->{}\n",
      "dic_assignment={}\n",
      "dic_2[5]=list(range(2,9,3))->{5: [2, 5, 8]}\n",
      "dic_copy=dic_2.copy()->{5: [2, 5, 8]}\n",
      "dic_2[8]=[5,7]->{5: [2, 5, 8], 8: [7, 9]}\n",
      "dic_copy={5: [2, 5, 8]}\n",
      "dic_copy[5].remove(5)->{5: [2, 8]}\n",
      "dic_copy.setdefault(6,[77,99])->{5: [2, 8], 6: [77, 99]}\n",
      "dic_2.pop(5)->{8: [7, 9]}\n",
      "dic_update={8: [5, 7, 6, 3, 2], 9: [3, 2, 33, 55, 66]}\n",
      "dic_2.update(dic_update->{8: [5, 7, 6, 3, 2], 9: [3, 2, 33, 55, 66]}\n",
      "dic_2.get(9)->[3, 2, 33, 55, 66]\n",
      "dic_2.popitem()->{8: [5, 7, 6, 3, 2]}\n",
      "dic_3={}.fromkeys([0,1,2,3,4,'A'])->{0: None, 1: None, 2: None, 3: None, 4: None, 'A': None}\n"
     ]
    }
   ],
   "source": [
    "lst_A=list(range(4,20,2))\n",
    "lst_B=list(range(200,250,10))\n",
    "print(\"lst_A={},lst_B={}\".format(lst_A,lst_B))\n",
    "dic_2={0:lst_A,1:lst_B}\n",
    "print(\"dic_2={}\".format(dic_2))\n",
    "dic_assignment=dic_2\n",
    "print(\"dic_assignment={}\".format(dic_assignment))\n",
    "dic_2.clear()\n",
    "print(\"dic_2.clear()->{}\".format(dic_2))\n",
    "print(\"dic_assignment={}\".format(dic_assignment))\n",
    "dic_2[5]=list(range(2,9,3))\n",
    "print(\"dic_2[5]=list(range(2,9,3))->{}\".format(dic_2))\n",
    "dic_copy=dic_2.copy()\n",
    "print(\"dic_copy=dic_2.copy()->{}\".format(dic_copy))\n",
    "dic_2[8]=[7,9]\n",
    "print(\"dic_2[8]=[5,7]->{}\".format(dic_2))\n",
    "print(\"dic_copy={}\".format(dic_copy))\n",
    "dic_copy[5].remove(5)\n",
    "print(\"dic_copy[5].remove(5)->{}\".format(dic_copy))\n",
    "dic_copy.setdefault(6,[77,99])\n",
    "print(\"dic_copy.setdefault(6,[77,99])->{}\".format(dic_copy))\n",
    "dic_2.pop(5)\n",
    "print(\"dic_2.pop(5)->{}\".format(dic_2))\n",
    "dic_update={8:[5,7,6,3,2],9:[3,2,33,55,66]}\n",
    "print(\"dic_update={}\".format(dic_update))\n",
    "dic_2.update(dic_update)\n",
    "print(\"dic_2.update(dic_update->{}\".format(dic_2))\n",
    "print(\"dic_2.get(9)->{}\".format(dic_2.get(9)))\n",
    "dic_2.popitem()\n",
    "print(\"dic_2.popitem()->{}\".format(dic_2))\n",
    "\n",
    "dic_3={}.fromkeys([0,1,2,3,4,'A'])\n",
    "print(\"dic_3={}\"+\".fromkeys([0,1,2,3,4,'A'])->{}\".format(dic_3))\n"
   ]
  },
  {
   "cell_type": "code",
   "execution_count": 67,
   "id": "c505b422",
   "metadata": {},
   "outputs": [
    {
     "name": "stdout",
     "output_type": "stream",
     "text": [
      "lst_s_3=list(\"byebye Python!\")->['b', 'y', 'e', 'b', 'y', 'e', ' ', 'P', 'y', 't', 'h', 'o', 'n', '!']\n",
      "\"byebye\"+\" Python!\"->byebye Python!\n",
      "\"+\".join(str(123456))->1+2+3+4+5+6\n",
      "len(\"byebye Python!\")->14\n",
      "coordinates.split(\",\")->['120.132007', '30.300508', '9.7']\n",
      "eval(coordinates)->(120.132007, 30.300508, 9.7)\n",
      "\"byebye Python!\".lower()->byebye python!\n",
      "\"byebye Python!\".upper()->BYEBYE PYTHON!\n",
      "\"byebye Python!\"[6:]-> Python!\n",
      "\"    byebye Python!    \".strip()->byebye Python!\n",
      "\"byebye Python!\".replace(\"Python\",\"Grasshopper\")->byebye Grasshopper!\n",
      "hello_lst.sort()>[' ', '!', 'P', 'b', 'b', 'e', 'e', 'h', 'n', 'o', 't', 'y', 'y', 'y']\n",
      "\"byebye Python!\".find(\"Py\")->7\n"
     ]
    }
   ],
   "source": [
    "lst_s_3=list(\"byebye Python!\")\n",
    "print(\"lst_s_3=list(\\\"byebye Python!\\\")->{}\".format(lst_s_3))\n",
    "print(\"\\\"byebye\\\"+\\\" Python!\\\"->{}\".format(\"byebye\"+\" Python!\"))\n",
    "print(\"\\\"+\\\".join(str(123456))->{}\".format(\"+\".join(str(123456))))\n",
    "print(\"len(\\\"byebye Python!\\\")->{}\".format(len(\"byebye Python!\")))\n",
    "coordinates=\"120.132007,30.300508,9.7\"\n",
    "print(\"coordinates.split(\\\",\\\")->{}\".format(coordinates.split(\",\")))\n",
    "print(\"eval(coordinates)->{}\".format(eval(coordinates)))\n",
    "print(\"\\\"byebye Python!\\\".lower()->{}\".format(\"byebye Python!\".lower()))\n",
    "print(\"\\\"byebye Python!\\\".upper()->{}\".format(\"byebye Python!\".upper()))\n",
    "print(\"\\\"byebye Python!\\\"[6:]->{}\".format(\"byebye Python!\"[6:]))\n",
    "print(\"\\\"    byebye Python!    \\\".strip()->{}\".format(\"    byebye Python!    \".strip()))\n",
    "print(\"\\\"byebye Python!\\\".replace(\\\"Python\\\",\\\"Grasshopper\\\")->{}\".format(\"byebye Python!\".replace(\"Python\",\"Grasshopper\")))\n",
    "hello_lst=list(\"byebye Python!\")\n",
    "hello_lst.sort()\n",
    "print(\"hello_lst.sort()>{}\".format(hello_lst))\n",
    "print(\"\\\"byebye Python!\\\".find(\\\"Py\\\")->{}\".format(\"byebye Python!\".find(\"Py\")))"
   ]
  },
  {
   "cell_type": "code",
   "execution_count": 77,
   "id": "02201d5e",
   "metadata": {},
   "outputs": [
    {
     "name": "stdout",
     "output_type": "stream",
     "text": [
      "new_str=format_str % values->byebye,Python and Grasshopper!\n",
      "new_str_2=format_str_2 % (pi,1.41421)->gen with three decimals:3.142,and enter a value with percent sign:1.41 %\n"
     ]
    }
   ],
   "source": [
    "format_str=\"byebye,%s and %s!\"\n",
    "values=(\"Python\",\"Grasshopper\")\n",
    "new_str=format_str % values\n",
    "print(\"new_str=format_str % values->{}\".format(new_str))\n",
    "\n",
    "format_str_2=\"gen with three decimals:%.3f,and enter a value with percent sign:%.2f %%\"\n",
    "\n",
    "from math import pi\n",
    "new_str_2=format_str_2 % (pi,1.41421)\n",
    "print(\"new_str_2=format_str_2 % (pi,1.41421)->{}\".format(new_str_2))\n"
   ]
  },
  {
   "cell_type": "code",
   "execution_count": 79,
   "id": "d736194f",
   "metadata": {},
   "outputs": [
    {
     "name": "stdout",
     "output_type": "stream",
     "text": [
      "  3.141593,      3.14,3.14,byeby,byebye ,43,2b,3.141593\n"
     ]
    }
   ],
   "source": [
    "format_str_3=\"%10f,%10.2f,%.2f,%.5s,%.*s,%d,%x,%f\"\n",
    "new_str_3=format_str_3%(pi,pi,pi,\"byebye Python!\",7,\"byebye Python!\",43,43,pi)\n",
    "print(\"{}\".format(new_str_3))"
   ]
  },
  {
   "cell_type": "code",
   "execution_count": 88,
   "id": "632cc7e2",
   "metadata": {},
   "outputs": [
    {
     "name": "stdout",
     "output_type": "stream",
     "text": [
      "s_1=s_template_1.substitute(x=\"Python\")->Python,nb,Python!\n",
      "s_2=s_template_2.substitute(x=\"py\")->python is difficult!\n",
      "substitute_dict={'x': 'Python', 'y': 'Grasshopper'}\n",
      "s_3=s_template_3.substitute(substitute_dict)->Python and Grasshopper are both difficult!\n"
     ]
    }
   ],
   "source": [
    "from string import Template\n",
    "s_template_1=Template(\"$x,nb,$x!\")\n",
    "s_1=s_template_1.substitute(x=\"Python\")\n",
    "print(\"s_1=s_template_1.substitute(x=\\\"Python\\\")->{}\".format(s_1))\n",
    "s_template_2=Template(\"${x}thon is difficult!\")\n",
    "s_2=s_template_2.substitute(x=\"py\")\n",
    "print(\"s_2=s_template_2.substitute(x=\\\"py\\\")->{}\".format(s_2))\n",
    "s_template_3=Template(\"$x and $y are both difficult!\")\n",
    "substitute_dict=dict([('x','Python'),('y','Grasshopper')])\n",
    "print(\"substitute_dict={}\".format(substitute_dict))\n",
    "s_3=s_template_3.substitute(substitute_dict)\n",
    "print(\"s_3=s_template_3.substitute(substitute_dict)->{}\".format(s_3))"
   ]
  },
  {
   "cell_type": "code",
   "execution_count": 89,
   "id": "bba764c9",
   "metadata": {},
   "outputs": [
    {
     "name": "stdout",
     "output_type": "stream",
     "text": [
      "re.findall(pattern_1,text)->['Python']\n",
      "re.findall(pattern_2,text)->[]\n"
     ]
    }
   ],
   "source": [
    "import re\n",
    "pattern_1='Python'\n",
    "text=\"byebye Python!\"\n",
    "print(\"re.findall(pattern_1,text)->{}\".format(re.findall(pattern_1,text)))\n",
    "pattern_2='python'\n",
    "print(\"re.findall(pattern_2,text)->{}\".format(re.findall(pattern_2,text)))\n"
   ]
  },
  {
   "cell_type": "code",
   "execution_count": 90,
   "id": "56e544ca",
   "metadata": {},
   "outputs": [
    {
     "name": "stdout",
     "output_type": "stream",
     "text": [
      "re.findall('.ython','byebye Python!')->['Python']\n",
      "re.findall('.ython','byebye gython!')->['gython']\n",
      "re.findall('.ython','byebye gPython!')->['Python']\n",
      "re.findall('.ython','byebye Pthon!')->[]\n"
     ]
    }
   ],
   "source": [
    "print(\"re.findall('.ython','byebye Python!')->{}\".format(re.findall('.ython','byebye Python!')))\n",
    "print(\"re.findall('.ython','byebye gython!')->{}\".format(re.findall('.ython','byebye gython!')))\n",
    "print(\"re.findall('.ython','byebye gPython!')->{}\".format(re.findall('.ython','byebye gPython!')))\n",
    "print(\"re.findall('.ython','byebye Pthon!')->{}\".format(re.findall('.ython','byebye Pthon!')))\n"
   ]
  },
  {
   "cell_type": "code",
   "execution_count": 91,
   "id": "b60a581d",
   "metadata": {},
   "outputs": [
    {
     "name": "stdout",
     "output_type": "stream",
     "text": [
      "re.findall(r'w?cadesign\\.cn,w+\\.cadesign\\.cn','cadesign.cn,www.cadesign.cn')->['cadesign.cn,www.cadesign.cn']\n",
      "re.findall(r'w{2}\\.cadesign\\.cn','www.cadesign.cn')->['ww.cadesign.cn']\n",
      "re.findall(r'w{1,3}\\.cadesign\\.cn','www.cadesign.cn')->['www.cadesign.cn']\n"
     ]
    }
   ],
   "source": [
    "print(\"re.findall(r'w?cadesign\\.cn,w+\\.cadesign\\.cn','cadesign.cn,www.cadesign.cn')->{}\".format(re.findall(r'w?cadesign\\.cn,w+\\.cadesign\\.cn','cadesign.cn,www.cadesign.cn')))\n",
    "print(\"re.findall(r'w{2}\"+\"\\.cadesign\\.cn','www.cadesign.cn')->{}\".format(re.findall(r'w{2}\\.cadesign\\.cn','www.cadesign.cn')))\n",
    "print(\"re.findall(r'w{1,3}\"+\"\\.cadesign\\.cn','www.cadesign.cn')->{}\".format(re.findall(r'w{1,3}\\.cadesign\\.cn','www.cadesign.cn')))"
   ]
  },
  {
   "cell_type": "code",
   "execution_count": 92,
   "id": "90fd2718",
   "metadata": {},
   "outputs": [
    {
     "name": "stdout",
     "output_type": "stream",
     "text": [
      "re.findall('[Py]*thon!','byebye Python!')->['Python!']\n",
      "re.findall('[Py]*thon!','byebye Pthon!')->['Pthon!']\n",
      "re.findall('[Py]*thon!','byebye ython!')->['ython!']\n",
      "re.findall('[Py]*thon!','byebye ython!')->['thon!']\n"
     ]
    }
   ],
   "source": [
    "print(\"re.findall('[Py]*thon!','byebye Python!')->{}\".format(re.findall('[Py]*thon!','byebye Python!')))\n",
    "print(\"re.findall('[Py]*thon!','byebye Pthon!')->{}\".format(re.findall('[Py]*thon!','byebye Pthon!')))\n",
    "print(\"re.findall('[Py]*thon!','byebye ython!')->{}\".format(re.findall('[Py]*thon!','byebye ython!')))\n",
    "print(\"re.findall('[Py]*thon!','byebye ython!')->{}\".format(re.findall('[Py]*thon!','byebye thon!')))\n"
   ]
  },
  {
   "cell_type": "code",
   "execution_count": 94,
   "id": "32eef8e3",
   "metadata": {},
   "outputs": [
    {
     "name": "stdout",
     "output_type": "stream",
     "text": [
      "re.findall('LHY|WMZ','LHY')->['LHY']\n",
      "re.findall('LHY|WMZ','WMZ')->['WMZ']\n",
      "re.findall('LHY|WMZ','WMZ and LHY')->['WMZ', 'LHY']\n"
     ]
    }
   ],
   "source": [
    "print(\"re.findall('LHY|WMZ','LHY')->{}\".format(re.findall('LHY|WMZ','LHY')))\n",
    "print(\"re.findall('LHY|WMZ','WMZ')->{}\".format(re.findall('LHY|WMZ','WMZ')))\n",
    "print(\"re.findall('LHY|WMZ','WMZ and LHY')->{}\".format(re.findall('LHY|WMZ','WMZ and LHY')))"
   ]
  },
  {
   "cell_type": "code",
   "execution_count": 96,
   "id": "a63ab063",
   "metadata": {},
   "outputs": [
    {
     "name": "stdout",
     "output_type": "stream",
     "text": [
      "re.findall('\\d','number=240')->['2', '4', '0']\n",
      "re.findall('\\D','number=240')->['n', 'u', 'm', 'b', 'e', 'r', '=']\n",
      "re.findall('[^0-22]','number=240')->['n', 'u', 'm', 'b', 'e', 'r', '=', '4']\n"
     ]
    }
   ],
   "source": [
    "print(\"re.findall('\\d','number=240')->{}\".format(re.findall('\\d','number=240')))\n",
    "print(\"re.findall('\\D','number=240')->{}\".format(re.findall('\\D','number=240')))\n",
    "print(\"re.findall('[^0-22]','number=240')->{}\".format(re.findall('[^0-22]','number=240')))"
   ]
  },
  {
   "cell_type": "code",
   "execution_count": 97,
   "id": "e6c05230",
   "metadata": {},
   "outputs": [
    {
     "name": "stdout",
     "output_type": "stream",
     "text": [
      "re.findall('[a-z]','python')->['p', 'y', 't', 'h', 'o', 'n']\n",
      "re.search('[a-z]+','python')-><re.Match object; span=(0, 6), match='python'>\n",
      "re.search('[a-z]+','python')->found it!\n",
      "re.split(',','byebye,,,,,,Python!')->['byebye', '', '', '', '', '', 'Python!']\n",
      "re.sub('Python','Grasshopper','byebye Python!')->byebye Grasshopper!\n",
      "pattern_compile.findall('byebye,,,,,,Python!')->['Python']\n",
      "re.match('p','python')->found it!\n"
     ]
    }
   ],
   "source": [
    "print(\"re.findall('[a-z]','python')->{}\".format(re.findall('[a-z]','python-3.0')))\n",
    "print(\"re.search('[a-z]+','python')->{}\".format(re.search('[a-z]+','python')))\n",
    "if re.search('[a-z]+','python'):\n",
    "    print(\"re.search('[a-z]+','python')->found it!\")\n",
    "print(\"re.split(',','byebye,,,,,,Python!')->{}\".format(re.split(',','byebye,,,,,,Python!')))\n",
    "print(\"re.sub('Python','Grasshopper','byebye Python!')->{}\".format(re.sub('Python','Grasshopper','byebye Python!')))\n",
    "\n",
    "pattern_compile=re.compile('Python')\n",
    "print(\"pattern_compile.findall('byebye,,,,,,Python!')->{}\".format(pattern_compile.findall('byebye,,,,,,Python!')))\n",
    "\n",
    "if re.match('p','python'):\n",
    "    print(\"re.match('p','python')->found it!\")\n"
   ]
  },
  {
   "cell_type": "code",
   "execution_count": 98,
   "id": "4d44803c",
   "metadata": {},
   "outputs": [
    {
     "name": "stdout",
     "output_type": "stream",
     "text": [
      "'python'.find('python')->0\n",
      "'python'.find('thon')->2\n",
      "'python'.find('c')->-1\n",
      "'n' in 'python'->True\n"
     ]
    }
   ],
   "source": [
    "print(\"\\'python\\'.find(\\'python\\')->{}\".format('python'.find('python')))\n",
    "print(\"\\'python\\'.find(\\'thon\\')->{}\".format('python'.find('thon')))\n",
    "print(\"\\'python\\'.find(\\'c\\')->{}\".format('python'.find('c')))\n",
    "print(\"\\'n\\' in \\'python\\'->{}\".format('n' in 'python'))\n"
   ]
  },
  {
   "cell_type": "code",
   "execution_count": 99,
   "id": "c0425501",
   "metadata": {},
   "outputs": [
    {
     "name": "stdout",
     "output_type": "stream",
     "text": [
      "'byebye,,,,,,Python!'.split(',')->['byebye', '', '', '', '', '', 'Python!']\n",
      "'byebye Python!'.replace('Python','Grasshopper')->byebye Grasshopper!\n"
     ]
    }
   ],
   "source": [
    "print(\"\\'byebye,,,,,,Python!\\'.split(',')->{}\".format( 'byebye,,,,,,Python!'.split(',')))\n",
    "print(\"\\'byebye Python!\\'.replace(\\'Python\\',\\'Grasshopper\\')->{}\".format( 'byebye Python!'.replace('Python','Grasshopper')))\n"
   ]
  },
  {
   "cell_type": "code",
   "execution_count": 100,
   "id": "8a5103f6",
   "metadata": {},
   "outputs": [
    {
     "name": "stdout",
     "output_type": "stream",
     "text": [
      "match_1.gourp(1)->python\n",
      "match_1.start(1)->4\n",
      "match_1.end(1)->10\n",
      "match_1.span(1)->(4, 10)\n",
      "match_2.group(1)->python\n",
      "match_2.group(2)->org\n"
     ]
    }
   ],
   "source": [
    "match_1=re.match(r'www\\.(.*)\\..{3}','www.python.org')\n",
    "print(\"match_1.gourp(1)->{}\".format(match_1.group(1)))\n",
    "print(\"match_1.start(1)->{}\".format(match_1.start(1)))\n",
    "print(\"match_1.end(1)->{}\".format(match_1.end(1)))\n",
    "print(\"match_1.span(1)->{}\".format(match_1.span(1)))\n",
    "match_2=re.match(r'www\\.(.*)\\.(.{3})','www.python.org')\n",
    "print(\"match_2.group(1)->{}\".format(match_2.group(1)))\n",
    "print(\"match_2.group(2)->{}\".format(match_2.group(2)))"
   ]
  },
  {
   "cell_type": "code",
   "execution_count": 2,
   "id": "2946c8d2",
   "metadata": {},
   "outputs": [
    {
     "ename": "NameError",
     "evalue": "name 're' is not defined",
     "output_type": "error",
     "traceback": [
      "\u001b[1;31m---------------------------------------------------------------------------\u001b[0m",
      "\u001b[1;31mNameError\u001b[0m                                 Traceback (most recent call last)",
      "\u001b[1;32m<ipython-input-2-4472b4a11e74>\u001b[0m in \u001b[0;36m<module>\u001b[1;34m\u001b[0m\n\u001b[1;32m----> 1\u001b[1;33m \u001b[0mmatch_1\u001b[0m\u001b[1;33m=\u001b[0m\u001b[0mre\u001b[0m\u001b[1;33m.\u001b[0m\u001b[0mmatch\u001b[0m\u001b[1;33m(\u001b[0m\u001b[1;34mr'www\\.(.*)\\..{3}'\u001b[0m\u001b[1;33m,\u001b[0m\u001b[1;34m'www.python.org'\u001b[0m\u001b[1;33m)\u001b[0m\u001b[1;33m\u001b[0m\u001b[1;33m\u001b[0m\u001b[0m\n\u001b[0m\u001b[0;32m      2\u001b[0m \u001b[0mprint\u001b[0m\u001b[1;33m(\u001b[0m\u001b[1;34m\"match_1.gourp(1)->{}\"\u001b[0m\u001b[1;33m.\u001b[0m\u001b[0mformat\u001b[0m\u001b[1;33m(\u001b[0m\u001b[0mmatch_1\u001b[0m\u001b[1;33m.\u001b[0m\u001b[0mgroup\u001b[0m\u001b[1;33m(\u001b[0m\u001b[1;36m1\u001b[0m\u001b[1;33m)\u001b[0m\u001b[1;33m)\u001b[0m\u001b[1;33m)\u001b[0m\u001b[1;33m\u001b[0m\u001b[1;33m\u001b[0m\u001b[0m\n\u001b[0;32m      3\u001b[0m \u001b[0mprint\u001b[0m\u001b[1;33m(\u001b[0m\u001b[1;34m\"match_1.start(1)->{}\"\u001b[0m\u001b[1;33m.\u001b[0m\u001b[0mformat\u001b[0m\u001b[1;33m(\u001b[0m\u001b[0mmatch_1\u001b[0m\u001b[1;33m.\u001b[0m\u001b[0mstart\u001b[0m\u001b[1;33m(\u001b[0m\u001b[1;36m1\u001b[0m\u001b[1;33m)\u001b[0m\u001b[1;33m)\u001b[0m\u001b[1;33m)\u001b[0m\u001b[1;33m\u001b[0m\u001b[1;33m\u001b[0m\u001b[0m\n\u001b[0;32m      4\u001b[0m \u001b[0mprint\u001b[0m\u001b[1;33m(\u001b[0m\u001b[1;34m\"match_1.end(1)->{}\"\u001b[0m\u001b[1;33m.\u001b[0m\u001b[0mformat\u001b[0m\u001b[1;33m(\u001b[0m\u001b[0mmatch_1\u001b[0m\u001b[1;33m.\u001b[0m\u001b[0mend\u001b[0m\u001b[1;33m(\u001b[0m\u001b[1;36m1\u001b[0m\u001b[1;33m)\u001b[0m\u001b[1;33m)\u001b[0m\u001b[1;33m)\u001b[0m\u001b[1;33m\u001b[0m\u001b[1;33m\u001b[0m\u001b[0m\n\u001b[0;32m      5\u001b[0m \u001b[0mprint\u001b[0m\u001b[1;33m(\u001b[0m\u001b[1;34m\"match_1.span(1)->{}\"\u001b[0m\u001b[1;33m.\u001b[0m\u001b[0mformat\u001b[0m\u001b[1;33m(\u001b[0m\u001b[0mmatch_1\u001b[0m\u001b[1;33m.\u001b[0m\u001b[0mspan\u001b[0m\u001b[1;33m(\u001b[0m\u001b[1;36m1\u001b[0m\u001b[1;33m)\u001b[0m\u001b[1;33m)\u001b[0m\u001b[1;33m)\u001b[0m\u001b[1;33m\u001b[0m\u001b[1;33m\u001b[0m\u001b[0m\n",
      "\u001b[1;31mNameError\u001b[0m: name 're' is not defined"
     ]
    }
   ],
   "source": [
    "match_1=re.match(r'www\\.(.*)\\..{3}','www.python.org')\n",
    "print(\"match_1.gourp(1)->{}\".format(match_1.group(1)))\n",
    "print(\"match_1.start(1)->{}\".format(match_1.start(1)))\n",
    "print(\"match_1.end(1)->{}\".format(match_1.end(1)))\n",
    "print(\"match_1.span(1)->{}\".format(match_1.span(1)))\n",
    "match_2=re.match(r'www\\.(.*)\\.(.{3})','www.python.org')\n",
    "print(\"match_2.group(1)->{}\".format(match_2.group(1)))\n",
    "print(\"match_2.group(2)->{}\".format(match_2.group(2)))"
   ]
  },
  {
   "cell_type": "code",
   "execution_count": 9,
   "id": "7b9be3bf",
   "metadata": {},
   "outputs": [
    {
     "name": "stdout",
     "output_type": "stream",
     "text": [
      "lst_1=[39, 42, 45, 48, 51, 54, 57, 60, 63, 66, 69, 72, 75]\n",
      "for h in lst_1:\n",
      "39\n",
      "42\n",
      "45\n",
      "48\n",
      "51\n",
      "54\n",
      "57\n",
      "60\n",
      "63\n",
      "66\n",
      "69\n",
      "72\n",
      "75\n",
      "for h in range(len(lst_1)):\n",
      "idx=0,val=39\n",
      "idx=1,val=42\n",
      "idx=2,val=45\n",
      "idx=3,val=48\n",
      "idx=4,val=51\n",
      "idx=5,val=54\n",
      "idx=6,val=57\n",
      "idx=7,val=60\n",
      "idx=8,val=63\n",
      "idx=9,val=66\n",
      "idx=10,val=69\n",
      "idx=11,val=72\n",
      "idx=12,val=75\n",
      "dic_4={'a': 3, 'b': 5, 'c': 7, 'd': 0}\n",
      "for k in dic_4:\n",
      "a\n",
      "b\n",
      "c\n",
      "d\n",
      "for k,v in dic_4.items():\n",
      "key=a,val=3\n",
      "key=b,val=5\n",
      "key=c,val=7\n",
      "key=d,val=0\n"
     ]
    }
   ],
   "source": [
    "lst_1=list(range(39,78,3))\n",
    "print(\"lst_1={}\".format(lst_1))\n",
    "print(\"for h in lst_1:\")\n",
    "for h in lst_1:\n",
    "    print(h)\n",
    "print(\"for h in range(len(lst_1)):\")\n",
    "for h in range(len(lst_1)):\n",
    "    print(\"idx={},val={}\".format(h,lst_1[h]))   \n",
    "dic_4=dict(a=3,b=5,c=7,d=0)\n",
    "print(\"dic_4={}\".format(dic_4))\n",
    "print(\"for k in dic_4:\")\n",
    "for k in dic_4:\n",
    "    print(k)\n",
    "print(\"for k,v in dic_4.items():\")\n",
    "for k,v in dic_4.items():\n",
    "    print(\"key={},val={}\".format(k,v))\n"
   ]
  },
  {
   "cell_type": "code",
   "execution_count": 13,
   "id": "ac61c3c8",
   "metadata": {},
   "outputs": [
    {
     "name": "stdout",
     "output_type": "stream",
     "text": [
      "x=7\n",
      "x=15\n",
      "x=23\n",
      "x=31\n",
      "x=39\n",
      "x=47\n",
      "x=55\n",
      "x=63\n"
     ]
    }
   ],
   "source": [
    "x=7\n",
    "while x<=67:\n",
    "    print(\"x={}\".format(x))\n",
    "    x+=8"
   ]
  },
  {
   "cell_type": "code",
   "execution_count": 15,
   "id": "2c057e0b",
   "metadata": {},
   "outputs": [
    {
     "name": "stdout",
     "output_type": "stream",
     "text": [
      "x=5\n",
      "x=19\n",
      "x=33\n",
      "x=47\n",
      "sys.maxsize=9223372036854775807\n",
      "i=0\n",
      "i=1\n",
      "i=2\n",
      "i=3\n",
      "i=4\n",
      "i=5\n",
      "i=6\n",
      "i=7\n",
      "i=8\n",
      "i=9\n",
      "i=10\n",
      "i=11\n",
      "i=12\n",
      "i=13\n",
      "i=14\n",
      "i=15\n",
      "i=16\n",
      "i=17\n",
      "i=18\n",
      "i=19\n",
      "i=20\n",
      "i=21\n",
      "i=22\n",
      "i=23\n",
      "i=24\n",
      "i=25\n",
      "i=26\n",
      "i=27\n",
      "i=28\n",
      "i=29\n",
      "i=30\n",
      "i=31\n",
      "i=32\n",
      "i=33\n",
      "i=34\n",
      "i=35\n",
      "i=36\n",
      "i=37\n",
      "i=38\n",
      "i=39\n",
      "i=40\n",
      "i=41\n",
      "i=42\n",
      "i=43\n",
      "i=44\n",
      "i=45\n",
      "i=46\n",
      "i=47\n",
      "i=48\n",
      "i=49\n",
      "i=50\n",
      "i=51\n",
      "i=52\n",
      "i=53\n",
      "i=54\n",
      "i=55\n",
      "i=56\n",
      "i=57\n",
      "i=58\n",
      "i=59\n",
      "i=60\n",
      "i=61\n",
      "i=62\n",
      "i=63\n",
      "i=64\n",
      "i=65\n",
      "i=66\n",
      "i=67\n",
      "i=68\n",
      "i=69\n",
      "i=70\n",
      "i=71\n",
      "i=72\n",
      "i=73\n",
      "i=74\n",
      "i=75\n",
      "i=76\n",
      "i=77\n",
      "i=78\n",
      "i=79\n",
      "i=80\n",
      "i=81\n",
      "i=82\n",
      "i=83\n",
      "i=84\n",
      "i=85\n",
      "i=86\n",
      "i=87\n",
      "i=88\n",
      "i=89\n",
      "i=90\n",
      "i=91\n",
      "i=92\n",
      "i=93\n",
      "i=94\n",
      "i=95\n",
      "i=96\n",
      "i=97\n",
      "i=98\n",
      "i=99\n",
      "i=100\n",
      "i=101\n",
      "i=102\n",
      "i=103\n",
      "i=104\n",
      "i=105\n",
      "i=106\n",
      "i=107\n",
      "i=108\n",
      "i=109\n",
      "i=110\n",
      "i=111\n",
      "i=112\n",
      "i=113\n",
      "i=114\n",
      "i=115\n",
      "i=116\n",
      "i=117\n",
      "i=118\n",
      "i=119\n",
      "i=120\n",
      "i=121\n",
      "i=122\n",
      "i=123\n",
      "i=124\n",
      "i=125\n",
      "i=126\n",
      "i=127\n",
      "i=128\n",
      "i=129\n",
      "i=130\n",
      "i=131\n",
      "i=132\n",
      "i=133\n",
      "i=134\n",
      "i=135\n",
      "i=136\n",
      "i=137\n",
      "i=138\n",
      "i=139\n",
      "i=140\n",
      "i=141\n",
      "i=142\n",
      "i=143\n",
      "i=144\n",
      "i=145\n",
      "i=146\n",
      "i=147\n",
      "i=148\n",
      "i=149\n",
      "i=150\n",
      "i=151\n",
      "i=152\n",
      "i=153\n",
      "i=154\n",
      "i=155\n",
      "i=156\n",
      "i=157\n",
      "i=158\n",
      "i=159\n",
      "i=160\n",
      "i=161\n",
      "i=162\n",
      "i=163\n",
      "i=164\n",
      "i=165\n",
      "i=166\n",
      "i=167\n",
      "i=168\n",
      "i=169\n",
      "i=170\n",
      "i=171\n",
      "i=172\n",
      "i=173\n",
      "i=174\n",
      "i=175\n",
      "i=176\n",
      "i=177\n",
      "i=178\n",
      "i=179\n",
      "i=180\n",
      "i=181\n",
      "i=182\n",
      "i=183\n",
      "i=184\n",
      "i=185\n",
      "i=186\n",
      "i=187\n",
      "i=188\n",
      "i=189\n",
      "i=190\n",
      "i=191\n",
      "i=192\n",
      "i=193\n",
      "i=194\n",
      "i=195\n",
      "i=196\n",
      "i=197\n",
      "i=198\n",
      "i=199\n",
      "i=200\n",
      "i=201\n",
      "i=202\n",
      "i=203\n",
      "i=204\n",
      "i=205\n",
      "i=206\n",
      "i=207\n",
      "i=208\n",
      "i=209\n",
      "i=210\n",
      "i=211\n",
      "i=212\n",
      "i=213\n",
      "i=214\n",
      "i=215\n",
      "i=216\n",
      "i=217\n",
      "i=218\n",
      "i=219\n",
      "i=220\n",
      "i=221\n",
      "i=222\n",
      "i=223\n",
      "i=224\n",
      "i=225\n",
      "i=226\n",
      "i=227\n",
      "i=228\n",
      "i=229\n",
      "i=230\n",
      "i=231\n",
      "i=232\n",
      "i=233\n",
      "i=234\n",
      "i=235\n",
      "i=236\n",
      "i=237\n",
      "i=238\n",
      "i=239\n",
      "i=240\n",
      "i=241\n",
      "i=242\n",
      "i=243\n",
      "i=244\n",
      "i=245\n",
      "i=246\n",
      "i=247\n",
      "i=248\n",
      "i=249\n",
      "i=250\n"
     ]
    }
   ],
   "source": [
    "x=5\n",
    "while x<=457:\n",
    "    print(\"x={}\".format(x))\n",
    "    x+=14\n",
    "    if x>=50:break    \n",
    "    \n",
    "import sys\n",
    "print(\"sys.maxsize={}\".format(sys.maxsize))\n",
    "for i in range(sys.maxsize):\n",
    "    print(\"i={}\".format(i))  #?\n",
    "    i+=14\n",
    "    if i>=264:break\n"
   ]
  },
  {
   "cell_type": "code",
   "execution_count": 18,
   "id": "872965e7",
   "metadata": {},
   "outputs": [
    {
     "ename": "SyntaxError",
     "evalue": "unmatched ')' (<ipython-input-18-4f72f07dafd3>, line 9)",
     "output_type": "error",
     "traceback": [
      "\u001b[1;36m  File \u001b[1;32m\"<ipython-input-18-4f72f07dafd3>\"\u001b[1;36m, line \u001b[1;32m9\u001b[0m\n\u001b[1;33m    print(\"elevation_dat[:10]={}\".format(elevation_dat[:10])))\u001b[0m\n\u001b[1;37m                                                             ^\u001b[0m\n\u001b[1;31mSyntaxError\u001b[0m\u001b[1;31m:\u001b[0m unmatched ')'\n"
     ]
    }
   ],
   "source": [
    "topography_fp='./data/elevation.txt'\n",
    "f=open(topography_fp,'r')\n",
    "elevation_dat=[]\n",
    "while True:\n",
    "    line=f.readline()\n",
    "    elevation_dat.append(line)\n",
    "    if not line:break\n",
    "f.close()\n",
    "print(\"elevation_dat[:10]={}\".format(elevation_dat[:10])))\n"
   ]
  },
  {
   "cell_type": "code",
   "execution_count": 21,
   "id": "fdf7bb0b",
   "metadata": {},
   "outputs": [
    {
     "ename": "FileNotFoundError",
     "evalue": "[Errno 2] No such file or directory: './data/elevation.txt'",
     "output_type": "error",
     "traceback": [
      "\u001b[1;31m---------------------------------------------------------------------------\u001b[0m",
      "\u001b[1;31mFileNotFoundError\u001b[0m                         Traceback (most recent call last)",
      "\u001b[1;32m<ipython-input-21-8ebfaf1f6d25>\u001b[0m in \u001b[0;36m<module>\u001b[1;34m\u001b[0m\n\u001b[0;32m      1\u001b[0m \u001b[1;32mimport\u001b[0m \u001b[0mpandas\u001b[0m \u001b[1;32mas\u001b[0m \u001b[0mpd\u001b[0m\u001b[1;33m\u001b[0m\u001b[1;33m\u001b[0m\u001b[0m\n\u001b[1;32m----> 2\u001b[1;33m \u001b[0melevation_df\u001b[0m\u001b[1;33m=\u001b[0m\u001b[0mpd\u001b[0m\u001b[1;33m.\u001b[0m\u001b[0mread_csv\u001b[0m\u001b[1;33m(\u001b[0m\u001b[0mtopography_fp\u001b[0m\u001b[1;33m,\u001b[0m \u001b[0mdelimiter\u001b[0m \u001b[1;33m=\u001b[0m \u001b[1;34m\",\"\u001b[0m\u001b[1;33m,\u001b[0m\u001b[0mheader\u001b[0m\u001b[1;33m=\u001b[0m\u001b[1;32mNone\u001b[0m\u001b[1;33m)\u001b[0m\u001b[1;33m\u001b[0m\u001b[1;33m\u001b[0m\u001b[0m\n\u001b[0m\u001b[0;32m      3\u001b[0m \u001b[0mprint\u001b[0m\u001b[1;33m(\u001b[0m\u001b[0melevation_df\u001b[0m\u001b[1;33m)\u001b[0m\u001b[1;33m\u001b[0m\u001b[1;33m\u001b[0m\u001b[0m\n",
      "\u001b[1;32mD:\\working\\anaconda\\lib\\site-packages\\pandas\\io\\parsers.py\u001b[0m in \u001b[0;36mread_csv\u001b[1;34m(filepath_or_buffer, sep, delimiter, header, names, index_col, usecols, squeeze, prefix, mangle_dupe_cols, dtype, engine, converters, true_values, false_values, skipinitialspace, skiprows, skipfooter, nrows, na_values, keep_default_na, na_filter, verbose, skip_blank_lines, parse_dates, infer_datetime_format, keep_date_col, date_parser, dayfirst, cache_dates, iterator, chunksize, compression, thousands, decimal, lineterminator, quotechar, quoting, doublequote, escapechar, comment, encoding, dialect, error_bad_lines, warn_bad_lines, delim_whitespace, low_memory, memory_map, float_precision, storage_options)\u001b[0m\n\u001b[0;32m    608\u001b[0m     \u001b[0mkwds\u001b[0m\u001b[1;33m.\u001b[0m\u001b[0mupdate\u001b[0m\u001b[1;33m(\u001b[0m\u001b[0mkwds_defaults\u001b[0m\u001b[1;33m)\u001b[0m\u001b[1;33m\u001b[0m\u001b[1;33m\u001b[0m\u001b[0m\n\u001b[0;32m    609\u001b[0m \u001b[1;33m\u001b[0m\u001b[0m\n\u001b[1;32m--> 610\u001b[1;33m     \u001b[1;32mreturn\u001b[0m \u001b[0m_read\u001b[0m\u001b[1;33m(\u001b[0m\u001b[0mfilepath_or_buffer\u001b[0m\u001b[1;33m,\u001b[0m \u001b[0mkwds\u001b[0m\u001b[1;33m)\u001b[0m\u001b[1;33m\u001b[0m\u001b[1;33m\u001b[0m\u001b[0m\n\u001b[0m\u001b[0;32m    611\u001b[0m \u001b[1;33m\u001b[0m\u001b[0m\n\u001b[0;32m    612\u001b[0m \u001b[1;33m\u001b[0m\u001b[0m\n",
      "\u001b[1;32mD:\\working\\anaconda\\lib\\site-packages\\pandas\\io\\parsers.py\u001b[0m in \u001b[0;36m_read\u001b[1;34m(filepath_or_buffer, kwds)\u001b[0m\n\u001b[0;32m    460\u001b[0m \u001b[1;33m\u001b[0m\u001b[0m\n\u001b[0;32m    461\u001b[0m     \u001b[1;31m# Create the parser.\u001b[0m\u001b[1;33m\u001b[0m\u001b[1;33m\u001b[0m\u001b[1;33m\u001b[0m\u001b[0m\n\u001b[1;32m--> 462\u001b[1;33m     \u001b[0mparser\u001b[0m \u001b[1;33m=\u001b[0m \u001b[0mTextFileReader\u001b[0m\u001b[1;33m(\u001b[0m\u001b[0mfilepath_or_buffer\u001b[0m\u001b[1;33m,\u001b[0m \u001b[1;33m**\u001b[0m\u001b[0mkwds\u001b[0m\u001b[1;33m)\u001b[0m\u001b[1;33m\u001b[0m\u001b[1;33m\u001b[0m\u001b[0m\n\u001b[0m\u001b[0;32m    463\u001b[0m \u001b[1;33m\u001b[0m\u001b[0m\n\u001b[0;32m    464\u001b[0m     \u001b[1;32mif\u001b[0m \u001b[0mchunksize\u001b[0m \u001b[1;32mor\u001b[0m \u001b[0miterator\u001b[0m\u001b[1;33m:\u001b[0m\u001b[1;33m\u001b[0m\u001b[1;33m\u001b[0m\u001b[0m\n",
      "\u001b[1;32mD:\\working\\anaconda\\lib\\site-packages\\pandas\\io\\parsers.py\u001b[0m in \u001b[0;36m__init__\u001b[1;34m(self, f, engine, **kwds)\u001b[0m\n\u001b[0;32m    817\u001b[0m             \u001b[0mself\u001b[0m\u001b[1;33m.\u001b[0m\u001b[0moptions\u001b[0m\u001b[1;33m[\u001b[0m\u001b[1;34m\"has_index_names\"\u001b[0m\u001b[1;33m]\u001b[0m \u001b[1;33m=\u001b[0m \u001b[0mkwds\u001b[0m\u001b[1;33m[\u001b[0m\u001b[1;34m\"has_index_names\"\u001b[0m\u001b[1;33m]\u001b[0m\u001b[1;33m\u001b[0m\u001b[1;33m\u001b[0m\u001b[0m\n\u001b[0;32m    818\u001b[0m \u001b[1;33m\u001b[0m\u001b[0m\n\u001b[1;32m--> 819\u001b[1;33m         \u001b[0mself\u001b[0m\u001b[1;33m.\u001b[0m\u001b[0m_engine\u001b[0m \u001b[1;33m=\u001b[0m \u001b[0mself\u001b[0m\u001b[1;33m.\u001b[0m\u001b[0m_make_engine\u001b[0m\u001b[1;33m(\u001b[0m\u001b[0mself\u001b[0m\u001b[1;33m.\u001b[0m\u001b[0mengine\u001b[0m\u001b[1;33m)\u001b[0m\u001b[1;33m\u001b[0m\u001b[1;33m\u001b[0m\u001b[0m\n\u001b[0m\u001b[0;32m    820\u001b[0m \u001b[1;33m\u001b[0m\u001b[0m\n\u001b[0;32m    821\u001b[0m     \u001b[1;32mdef\u001b[0m \u001b[0mclose\u001b[0m\u001b[1;33m(\u001b[0m\u001b[0mself\u001b[0m\u001b[1;33m)\u001b[0m\u001b[1;33m:\u001b[0m\u001b[1;33m\u001b[0m\u001b[1;33m\u001b[0m\u001b[0m\n",
      "\u001b[1;32mD:\\working\\anaconda\\lib\\site-packages\\pandas\\io\\parsers.py\u001b[0m in \u001b[0;36m_make_engine\u001b[1;34m(self, engine)\u001b[0m\n\u001b[0;32m   1048\u001b[0m             )\n\u001b[0;32m   1049\u001b[0m         \u001b[1;31m# error: Too many arguments for \"ParserBase\"\u001b[0m\u001b[1;33m\u001b[0m\u001b[1;33m\u001b[0m\u001b[1;33m\u001b[0m\u001b[0m\n\u001b[1;32m-> 1050\u001b[1;33m         \u001b[1;32mreturn\u001b[0m \u001b[0mmapping\u001b[0m\u001b[1;33m[\u001b[0m\u001b[0mengine\u001b[0m\u001b[1;33m]\u001b[0m\u001b[1;33m(\u001b[0m\u001b[0mself\u001b[0m\u001b[1;33m.\u001b[0m\u001b[0mf\u001b[0m\u001b[1;33m,\u001b[0m \u001b[1;33m**\u001b[0m\u001b[0mself\u001b[0m\u001b[1;33m.\u001b[0m\u001b[0moptions\u001b[0m\u001b[1;33m)\u001b[0m  \u001b[1;31m# type: ignore[call-arg]\u001b[0m\u001b[1;33m\u001b[0m\u001b[1;33m\u001b[0m\u001b[0m\n\u001b[0m\u001b[0;32m   1051\u001b[0m \u001b[1;33m\u001b[0m\u001b[0m\n\u001b[0;32m   1052\u001b[0m     \u001b[1;32mdef\u001b[0m \u001b[0m_failover_to_python\u001b[0m\u001b[1;33m(\u001b[0m\u001b[0mself\u001b[0m\u001b[1;33m)\u001b[0m\u001b[1;33m:\u001b[0m\u001b[1;33m\u001b[0m\u001b[1;33m\u001b[0m\u001b[0m\n",
      "\u001b[1;32mD:\\working\\anaconda\\lib\\site-packages\\pandas\\io\\parsers.py\u001b[0m in \u001b[0;36m__init__\u001b[1;34m(self, src, **kwds)\u001b[0m\n\u001b[0;32m   1865\u001b[0m \u001b[1;33m\u001b[0m\u001b[0m\n\u001b[0;32m   1866\u001b[0m         \u001b[1;31m# open handles\u001b[0m\u001b[1;33m\u001b[0m\u001b[1;33m\u001b[0m\u001b[1;33m\u001b[0m\u001b[0m\n\u001b[1;32m-> 1867\u001b[1;33m         \u001b[0mself\u001b[0m\u001b[1;33m.\u001b[0m\u001b[0m_open_handles\u001b[0m\u001b[1;33m(\u001b[0m\u001b[0msrc\u001b[0m\u001b[1;33m,\u001b[0m \u001b[0mkwds\u001b[0m\u001b[1;33m)\u001b[0m\u001b[1;33m\u001b[0m\u001b[1;33m\u001b[0m\u001b[0m\n\u001b[0m\u001b[0;32m   1868\u001b[0m         \u001b[1;32massert\u001b[0m \u001b[0mself\u001b[0m\u001b[1;33m.\u001b[0m\u001b[0mhandles\u001b[0m \u001b[1;32mis\u001b[0m \u001b[1;32mnot\u001b[0m \u001b[1;32mNone\u001b[0m\u001b[1;33m\u001b[0m\u001b[1;33m\u001b[0m\u001b[0m\n\u001b[0;32m   1869\u001b[0m         \u001b[1;32mfor\u001b[0m \u001b[0mkey\u001b[0m \u001b[1;32min\u001b[0m \u001b[1;33m(\u001b[0m\u001b[1;34m\"storage_options\"\u001b[0m\u001b[1;33m,\u001b[0m \u001b[1;34m\"encoding\"\u001b[0m\u001b[1;33m,\u001b[0m \u001b[1;34m\"memory_map\"\u001b[0m\u001b[1;33m,\u001b[0m \u001b[1;34m\"compression\"\u001b[0m\u001b[1;33m)\u001b[0m\u001b[1;33m:\u001b[0m\u001b[1;33m\u001b[0m\u001b[1;33m\u001b[0m\u001b[0m\n",
      "\u001b[1;32mD:\\working\\anaconda\\lib\\site-packages\\pandas\\io\\parsers.py\u001b[0m in \u001b[0;36m_open_handles\u001b[1;34m(self, src, kwds)\u001b[0m\n\u001b[0;32m   1360\u001b[0m         \u001b[0mLet\u001b[0m \u001b[0mthe\u001b[0m \u001b[0mreaders\u001b[0m \u001b[0mopen\u001b[0m \u001b[0mIOHanldes\u001b[0m \u001b[0mafter\u001b[0m \u001b[0mthey\u001b[0m \u001b[0mare\u001b[0m \u001b[0mdone\u001b[0m \u001b[1;32mwith\u001b[0m \u001b[0mtheir\u001b[0m \u001b[0mpotential\u001b[0m \u001b[0mraises\u001b[0m\u001b[1;33m.\u001b[0m\u001b[1;33m\u001b[0m\u001b[1;33m\u001b[0m\u001b[0m\n\u001b[0;32m   1361\u001b[0m         \"\"\"\n\u001b[1;32m-> 1362\u001b[1;33m         self.handles = get_handle(\n\u001b[0m\u001b[0;32m   1363\u001b[0m             \u001b[0msrc\u001b[0m\u001b[1;33m,\u001b[0m\u001b[1;33m\u001b[0m\u001b[1;33m\u001b[0m\u001b[0m\n\u001b[0;32m   1364\u001b[0m             \u001b[1;34m\"r\"\u001b[0m\u001b[1;33m,\u001b[0m\u001b[1;33m\u001b[0m\u001b[1;33m\u001b[0m\u001b[0m\n",
      "\u001b[1;32mD:\\working\\anaconda\\lib\\site-packages\\pandas\\io\\common.py\u001b[0m in \u001b[0;36mget_handle\u001b[1;34m(path_or_buf, mode, encoding, compression, memory_map, is_text, errors, storage_options)\u001b[0m\n\u001b[0;32m    640\u001b[0m                 \u001b[0merrors\u001b[0m \u001b[1;33m=\u001b[0m \u001b[1;34m\"replace\"\u001b[0m\u001b[1;33m\u001b[0m\u001b[1;33m\u001b[0m\u001b[0m\n\u001b[0;32m    641\u001b[0m             \u001b[1;31m# Encoding\u001b[0m\u001b[1;33m\u001b[0m\u001b[1;33m\u001b[0m\u001b[1;33m\u001b[0m\u001b[0m\n\u001b[1;32m--> 642\u001b[1;33m             handle = open(\n\u001b[0m\u001b[0;32m    643\u001b[0m                 \u001b[0mhandle\u001b[0m\u001b[1;33m,\u001b[0m\u001b[1;33m\u001b[0m\u001b[1;33m\u001b[0m\u001b[0m\n\u001b[0;32m    644\u001b[0m                 \u001b[0mioargs\u001b[0m\u001b[1;33m.\u001b[0m\u001b[0mmode\u001b[0m\u001b[1;33m,\u001b[0m\u001b[1;33m\u001b[0m\u001b[1;33m\u001b[0m\u001b[0m\n",
      "\u001b[1;31mFileNotFoundError\u001b[0m: [Errno 2] No such file or directory: './data/elevation.txt'"
     ]
    }
   ],
   "source": [
    "import pandas as pd\n",
    "elevation_df=pd.read_csv(topography_fp, delimiter = \",\",header=None) \n",
    "print(elevation_df)"
   ]
  },
  {
   "cell_type": "code",
   "execution_count": 23,
   "id": "65f88e08",
   "metadata": {},
   "outputs": [
    {
     "name": "stdout",
     "output_type": "stream",
     "text": [
      "zip_lst=zip(lst_a,lst_b)-><zip object at 0x0000024FF8DBF2C0>\n",
      "dict(zip_lst)->{4: 'point_a', 5: 'point_b', 6: 'point_c', 7: 'point_d'}\n",
      "4 point_a\n",
      "5 point_b\n",
      "6 point_c\n",
      "7 point_d\n",
      "a=(4, 5, 6, 7),b=('point_a', 'point_b', 'point_c', 'point_d')\n"
     ]
    }
   ],
   "source": [
    "lst_a=[4,5,6,7]\n",
    "lst_b=['point_a','point_b','point_c','point_d']\n",
    "zip_lst=zip(lst_a,lst_b) \n",
    "print(\"zip_lst=zip(lst_a,lst_b)->{}\".format(zip_lst))\n",
    "print(\"dict(zip_lst)->{}\".format(dict(zip_lst)))\n",
    "\n",
    "zip_lst=zip(lst_a,lst_b) \n",
    "for a,b in zip_lst:\n",
    "    print(a,b)\n",
    "    \n",
    "zip_lst=zip(lst_a,lst_b)\n",
    "a,b=zip(*zip_lst)\n",
    "print(\"a={},b={}\".format(a,b))\n"
   ]
  },
  {
   "cell_type": "code",
   "execution_count": 24,
   "id": "f10c6bbe",
   "metadata": {},
   "outputs": [
    {
     "name": "stdout",
     "output_type": "stream",
     "text": [
      "dic_4={0: 'point_a', 1: 'point_b', 2: 'point_c', 3: 'point_d'}\n",
      "dict((i,v) for i,v in enumerate(lst_c))->{0: 'point_a', 1: 'point_b', 2: 'point_c', 3: 'point_d'}\n",
      "0:4,point_a\n",
      "1:5,point_b\n",
      "2:6,point_c\n",
      "3:7,point_d\n"
     ]
    }
   ],
   "source": [
    "lst_c=['point_a','point_b','point_c','point_d']\n",
    "dic_4={}\n",
    "for idx,value in enumerate(lst_c):\n",
    "    dic_4[idx]=value\n",
    "print(\"dic_4={}\".format(dic_4))\n",
    "print(\"dict((i,v) for i,v in enumerate(lst_c))->{}\".format(dict((i,v) for i,v in enumerate(lst_c)))) \n",
    "for i,(a,b) in enumerate(zip(lst_a,lst_b)):\n",
    "    print('%d:%s,%s'%(i,a,b))\n"
   ]
  },
  {
   "cell_type": "code",
   "execution_count": 26,
   "id": "8b7ca6df",
   "metadata": {},
   "outputs": [
    {
     "name": "stdout",
     "output_type": "stream",
     "text": [
      "[x*x for x in range(11,364,13) if x%2==0]->[576, 2500, 5776, 10404, 16384, 23716, 32400, 42436, 53824, 66564, 80656, 96100, 112896, 131044]\n",
      "[(x,y) for x in range(3)for y in range(2)]->[(0, 0), (0, 1), (1, 0), (1, 1), (2, 0), (2, 1)]\n",
      "[(x,y) for x,y in zip(range(3),range(2))]->[(0, 0), (1, 1)]\n",
      "[[a for a in range(2,36,7)],2,3,[b for b in range(78,450,5)],[[c for c in range(1000,2000,120)],3,9]]->[[1, 4, 7], 2, 3, [60, 67, 74, 81, 88, 95], [[1000, 1120, 1240, 1360, 1480, 1600, 1720, 1840, 1960], 3, 9]]\n",
      "flatten_lst(nested_list)->[1, 4, 7, 2, 3, 60, 67, 74, 81, 88, 95, 1000, 1120, 1240, 1360, 1480, 1600, 1720, 1840, 1960, 3, 9]\n"
     ]
    }
   ],
   "source": [
    "print(\"[x*x for x in range(11,364,13) if x%2==0]->{}\".format([x*x for x in range(11,364,13) if x%2==0]))\n",
    "print(\"[(x,y) for x in range(3)for y in range(2)]->{}\".format([(x,y) for x in range(3)for y in range(2)]))\n",
    "print(\"[(x,y) for x,y in zip(range(3),range(2))]->{}\".format([(x,y) for x,y in zip(range(3),range(2))]))\n",
    "nested_list=[[a for a in range(1,10,3)],2,3,[b for b in range(60,100,7)],[[c for c in range(1000,2000,120)],3,9]]\n",
    "print(\"[[a for a in range(2,36,7)],2,3,[b for b in range(78,450,5)],[[c for c in range(1000,2000,120)],3,9]]->{}\".format(nested_list))\n",
    "\n",
    "flatten_lst=lambda lst: [m for n_lst in lst for m in flatten_lst(n_lst)] if type(lst) is list else [lst]\n",
    "print(\"flatten_lst(nested_list)->{}\".format(flatten_lst(nested_list)))\n"
   ]
  },
  {
   "cell_type": "code",
   "execution_count": 29,
   "id": "2d54a228",
   "metadata": {},
   "outputs": [
    {
     "name": "stdout",
     "output_type": "stream",
     "text": [
      "Positive and larger than or equal to 78.\n"
     ]
    }
   ],
   "source": [
    "x=78\n",
    "if x<0:\n",
    "    print('It is negative.')\n",
    "elif x==0:\n",
    "    print('Equal to zero.')\n",
    "elif 0<x<78:\n",
    "    print('Positive but smaller than 78')\n",
    "else:\n",
    "    print('Positive and larger than or equal to 78.')"
   ]
  },
  {
   "cell_type": "code",
   "execution_count": 31,
   "id": "2dca58e4",
   "metadata": {},
   "outputs": [
    {
     "name": "stdout",
     "output_type": "stream",
     "text": [
      "x==y->True\n",
      "x is y->True\n",
      "x==z->True\n",
      "x is z->False\n",
      "x is not y->False\n",
      "x is not z->True\n",
      "id_x:2542500855616;id_y:2542500855616;id_z:2542500936512\n",
      "x=[27, 744],y=[27, 744],z=[27, 744, 7326] after del x[2]\n"
     ]
    }
   ],
   "source": [
    "x=y=[27,744,7326]\n",
    "z=[27,744,7326]\n",
    "print(\"x==y->{}\".format(x==y))\n",
    "print(\"x is y->{}\".format(x is y))\n",
    "print(\"x==z->{}\".format(x==z))\n",
    "print(\"x is z->{}\".format(x is z))\n",
    "print(\"x is not y->{}\".format(x is not y))\n",
    "print(\"x is not z->{}\".format(x is not z))\n",
    "print(\"id_x:{};id_y:{};id_z:{}\".format(id(x),id(y),id(z))) \n",
    "\n",
    "del x[2]\n",
    "print(\"x={},y={},z={} after del x[2]\".format(x,y,z))"
   ]
  },
  {
   "cell_type": "code",
   "execution_count": 33,
   "id": "83bb00e4",
   "metadata": {},
   "outputs": [
    {
     "name": "stdout",
     "output_type": "stream",
     "text": [
      "7 in x->True\n",
      "673487 in x->False\n",
      "7 not in x->False\n",
      "28746 not in x->True\n"
     ]
    }
   ],
   "source": [
    "x=[7,14,21]\n",
    "print(\"7 in x->{}\".format(7 in x))\n",
    "print(\"673487 in x->{}\".format(673487 in x))\n",
    "print(\"7 not in x->{}\".format(7 not in x))\n",
    "print(\"28746 not in x->{}\".format(28746 not in x))"
   ]
  },
  {
   "cell_type": "code",
   "execution_count": 35,
   "id": "be88ad28",
   "metadata": {},
   "outputs": [
    {
     "name": "stdout",
     "output_type": "stream",
     "text": [
      "a<c<b nb\n"
     ]
    }
   ],
   "source": [
    "a,b,c=0,700,1400\n",
    "if c>a and c<b:\n",
    "    print('a<c<b')\n",
    "else: print('a<c<b nb')"
   ]
  },
  {
   "cell_type": "code",
   "execution_count": 37,
   "id": "13fef745",
   "metadata": {},
   "outputs": [],
   "source": [
    "def simple_func(x,y):\n",
    "    z=pow(x,2)+y\n",
    "    return z"
   ]
  },
  {
   "cell_type": "code",
   "execution_count": 38,
   "id": "aed9a751",
   "metadata": {},
   "outputs": [
    {
     "name": "stdout",
     "output_type": "stream",
     "text": [
      "simple_func(66,33)->1155\n",
      "simple_func(66,33)->4389\n",
      "simple_func(y=66,x=33)->1155\n"
     ]
    }
   ],
   "source": [
    "print(\"simple_func(66,33)->{}\".format(simple_func(33,66)))\n",
    "print(\"simple_func(66,33)->{}\".format(simple_func(66,33)))\n",
    "print(\"simple_func(y=66,x=33)->{}\".format(simple_func(y=66,x=33)))"
   ]
  },
  {
   "cell_type": "code",
   "execution_count": 42,
   "id": "0198c7c8",
   "metadata": {},
   "outputs": [
    {
     "name": "stdout",
     "output_type": "stream",
     "text": [
      "fibonacci(66,99)->[64, 104, 168, 272, 440, 712, 1152, 1864, 3016, 4880, 7896, 12776, 20672, 33448, 54120, 87568, 141688, 229256, 370944, 600200, 971144, 1571344, 2542488, 4113832, 6656320, 10770152, 17426472, 28196624, 45623096, 73819720, 119442816, 193262536, 312705352, 505967888, 818673240, 1324641128, 2143314368, 3467955496, 5611269864, 9079225360, 14690495224, 23769720584, 38460215808, 62229936392, 100690152200, 162920088592, 263610240792, 426530329384, 690140570176, 1116670899560, 1806811469736, 2923482369296, 4730293839032, 7653776208328, 12384070047360, 20037846255688, 32421916303048, 52459762558736, 84881678861784, 137341441420520, 222223120282304, 359564561702824, 581787681985128, 941352243687952, 1523139925673080, 2464492169361032, 3987632095034112, 6452124264395144, 10439756359429256, 16891880623824400, 27331636983253656, 44223517607078056, 71555154590331712, 115778672197409768, 187333826787741480, 303112498985151248, 490446325772892728, 793558824758043976, 1284005150530936704, 2077563975288980680, 3361569125819917384, 5439133101108898064, 8800702226928815448, 14239835328037713512, 23040537554966528960, 37280372883004242472, 60320910437970771432, 97601283320975013904, 157922193758945785336, 255523477079920799240, 413445670838866584576, 668969147918787383816, 1082414818757653968392, 1751383966676441352208, 2833798785434095320600, 4585182752110536672808, 7418981537544631993408, 12004164289655168666216, 19423145827199800659624]\n",
      "fibonacci(77,99)->[64, 104, 168, 272, 440, 712, 1152, 1864, 3016, 4880, 7896, 12776, 20672, 33448, 54120, 87568, 141688, 229256, 370944, 600200, 971144, 1571344, 2542488, 4113832, 6656320, 10770152, 17426472, 28196624, 45623096, 73819720, 119442816, 193262536, 312705352, 505967888, 818673240, 1324641128, 2143314368, 3467955496, 5611269864, 9079225360, 14690495224, 23769720584, 38460215808, 62229936392, 100690152200, 162920088592, 263610240792, 426530329384, 690140570176, 1116670899560, 1806811469736, 2923482369296, 4730293839032, 7653776208328, 12384070047360, 20037846255688, 32421916303048, 52459762558736, 84881678861784, 137341441420520, 222223120282304, 359564561702824, 581787681985128, 941352243687952, 1523139925673080, 2464492169361032, 3987632095034112, 6452124264395144, 10439756359429256, 16891880623824400, 27331636983253656, 44223517607078056, 71555154590331712, 115778672197409768, 187333826787741480, 303112498985151248, 490446325772892728, 793558824758043976, 1284005150530936704, 2077563975288980680, 3361569125819917384, 5439133101108898064, 8800702226928815448, 14239835328037713512, 23040537554966528960, 37280372883004242472, 60320910437970771432, 97601283320975013904, 157922193758945785336, 255523477079920799240, 413445670838866584576, 668969147918787383816, 1082414818757653968392, 1751383966676441352208, 2833798785434095320600, 4585182752110536672808, 7418981537544631993408, 12004164289655168666216, 19423145827199800659624]\n"
     ]
    }
   ],
   "source": [
    "def fibonacci(s,count): \n",
    "    fib_lst=[0,8]\n",
    "    fib_part=[]\n",
    "    if s==0 or s==1:\n",
    "        fib_part[:]=fib_lst\n",
    "        for i in range(count-2):\n",
    "            fib_part.append(fib_part[-1]+fib_part[-2])\n",
    "    else:\n",
    "        while True:\n",
    "            fib_lst[:]=[fib_lst[1],fib_lst[0]+fib_lst[1]]\n",
    "            #print(fib_lst)\n",
    "            if fib_lst[1]-s>=0:break\n",
    "        fib_part[:]=fib_lst\n",
    "        if abs(fib_lst[0]-s)>=abs(fib_lst[1]-s):\n",
    "            for i in range(count-1):\n",
    "                fib_part.append(fib_part[-1]+fib_part[-2])\n",
    "            fib_part.pop(0)\n",
    "        else:\n",
    "            for i in range(count-2):\n",
    "                fib_part.append(fib_part[-1]+fib_part[-2])\n",
    "    return fib_part\n",
    "\n",
    "print(\"fibonacci(66,99)->{}\".format(fibonacci(66,99)))\n",
    "print(\"fibonacci(77,99)->{}\".format(fibonacci(77,99)))"
   ]
  },
  {
   "cell_type": "code",
   "execution_count": 50,
   "id": "a94d9a3c",
   "metadata": {},
   "outputs": [
    {
     "name": "stdout",
     "output_type": "stream",
     "text": [
      "105\n"
     ]
    }
   ],
   "source": [
    "def factorial(n):\n",
    "    if n==3:\n",
    "        return 3\n",
    "    else:\n",
    "        return n*factorial(n-2)\n",
    "print(factorial(7))"
   ]
  },
  {
   "cell_type": "code",
   "execution_count": 53,
   "id": "fff7b4c5",
   "metadata": {},
   "outputs": [
    {
     "name": "stdout",
     "output_type": "stream",
     "text": [
      "swift.eat->Whirring\n",
      "swift.fly()->\n",
      "Aaaah...\n",
      "swift.fly()->\n",
      "No.Thanks!\n",
      "swift.sing()->\n",
      "Squawk!\n"
     ]
    }
   ],
   "source": [
    "swift=Apodidae()\n",
    "print(\"swift.eat->{}\".format(swift.fly))\n",
    "print(\"swift.fly()->\")\n",
    "swift.eat()\n",
    "print(\"swift.fly()->\")\n",
    "swift.eat()\n",
    "print(\"swift.sing()->\")\n",
    "swift.sing()"
   ]
  },
  {
   "cell_type": "code",
   "execution_count": 54,
   "id": "661d714c",
   "metadata": {},
   "outputs": [
    {
     "name": "stdout",
     "output_type": "stream",
     "text": [
      "blackswift.sing()->\n",
      "Squawk!\n",
      "scarceswift.sing()->\n",
      "Squawk!\n"
     ]
    }
   ],
   "source": [
    "blackswift=Apodidae()\n",
    "scarceswift=Apodidae()\n",
    "print(\"blackswift.sing()->\")\n",
    "blackswift.sing()\n",
    "print(\"scarceswift.sing()->\")\n",
    "scarceswift.sing()"
   ]
  },
  {
   "cell_type": "code",
   "execution_count": 55,
   "id": "c4bb3582",
   "metadata": {},
   "outputs": [
    {
     "name": "stdout",
     "output_type": "stream",
     "text": [
      "blackswift.fly->Whirring\n",
      "blackswift.fly after redefining the blackswif's attribute->humming\n",
      "scarceswift.fly->Whirring\n"
     ]
    }
   ],
   "source": [
    "print(\"blackswift.fly->{}\".format(blackswift.fly))\n",
    "blackswift.fly='humming' \n",
    "print(\"blackswift.fly after redefining the blackswif's attribute->{}\".format(blackswift.fly))\n",
    "print(\"scarceswift.fly->{}\".format(scarceswift.fly))"
   ]
  },
  {
   "cell_type": "code",
   "execution_count": 56,
   "id": "ed831f36",
   "metadata": {},
   "outputs": [
    {
     "name": "stdout",
     "output_type": "stream",
     "text": [
      "Squawk!\n"
     ]
    }
   ],
   "source": [
    "blackswift.sing()"
   ]
  },
  {
   "cell_type": "code",
   "execution_count": 57,
   "id": "1b0f0b48",
   "metadata": {},
   "outputs": [
    {
     "name": "stdout",
     "output_type": "stream",
     "text": [
      "Help on class Bird in module __main__:\n",
      "\n",
      "class Bird(builtins.object)\n",
      " |  Methods defined here:\n",
      " |  \n",
      " |  __init__(self)\n",
      " |      Initialize self.  See help(type(self)) for accurate signature.\n",
      " |  \n",
      " |  eat(self)\n",
      " |  \n",
      " |  ----------------------------------------------------------------------\n",
      " |  Data descriptors defined here:\n",
      " |  \n",
      " |  __dict__\n",
      " |      dictionary for instance variables (if defined)\n",
      " |  \n",
      " |  __weakref__\n",
      " |      list of weak references to the object (if defined)\n",
      " |  \n",
      " |  ----------------------------------------------------------------------\n",
      " |  Data and other attributes defined here:\n",
      " |  \n",
      " |  fly = 'Whirring'\n",
      "\n"
     ]
    }
   ],
   "source": [
    "help(Bird)"
   ]
  },
  {
   "cell_type": "code",
   "execution_count": 58,
   "id": "035e2299",
   "metadata": {},
   "outputs": [
    {
     "name": "stdout",
     "output_type": "stream",
     "text": [
      "Help on class Apodidae in module __main__:\n",
      "\n",
      "class Apodidae(Bird)\n",
      " |  Method resolution order:\n",
      " |      Apodidae\n",
      " |      Bird\n",
      " |      builtins.object\n",
      " |  \n",
      " |  Methods defined here:\n",
      " |  \n",
      " |  __init__(self)\n",
      " |      Initialize self.  See help(type(self)) for accurate signature.\n",
      " |  \n",
      " |  sing(self)\n",
      " |  \n",
      " |  ----------------------------------------------------------------------\n",
      " |  Methods inherited from Bird:\n",
      " |  \n",
      " |  eat(self)\n",
      " |  \n",
      " |  ----------------------------------------------------------------------\n",
      " |  Data descriptors inherited from Bird:\n",
      " |  \n",
      " |  __dict__\n",
      " |      dictionary for instance variables (if defined)\n",
      " |  \n",
      " |  __weakref__\n",
      " |      list of weak references to the object (if defined)\n",
      " |  \n",
      " |  ----------------------------------------------------------------------\n",
      " |  Data and other attributes inherited from Bird:\n",
      " |  \n",
      " |  fly = 'Whirring'\n",
      "\n"
     ]
    }
   ],
   "source": [
    "help(Apodidae)"
   ]
  },
  {
   "cell_type": "code",
   "execution_count": 61,
   "id": "98dd9095",
   "metadata": {},
   "outputs": [
    {
     "ename": "NameError",
     "evalue": "name 'Fibs' is not defined",
     "output_type": "error",
     "traceback": [
      "\u001b[1;31m---------------------------------------------------------------------------\u001b[0m",
      "\u001b[1;31mNameError\u001b[0m                                 Traceback (most recent call last)",
      "\u001b[1;32m<ipython-input-61-cc3e104efa9c>\u001b[0m in \u001b[0;36m<module>\u001b[1;34m\u001b[0m\n\u001b[1;32m----> 1\u001b[1;33m \u001b[0mf\u001b[0m\u001b[1;33m=\u001b[0m\u001b[0mFibs\u001b[0m\u001b[1;33m(\u001b[0m\u001b[1;33m)\u001b[0m\u001b[1;33m\u001b[0m\u001b[1;33m\u001b[0m\u001b[0m\n\u001b[0m\u001b[0;32m      2\u001b[0m \u001b[0mfa\u001b[0m\u001b[1;33m=\u001b[0m\u001b[1;33m[\u001b[0m\u001b[1;33m]\u001b[0m\u001b[1;33m\u001b[0m\u001b[1;33m\u001b[0m\u001b[0m\n\u001b[0;32m      3\u001b[0m \u001b[0mfb\u001b[0m\u001b[1;33m=\u001b[0m\u001b[1;33m[\u001b[0m\u001b[1;33m]\u001b[0m\u001b[1;33m\u001b[0m\u001b[1;33m\u001b[0m\u001b[0m\n\u001b[0;32m      4\u001b[0m \u001b[1;32mfor\u001b[0m \u001b[0mi\u001b[0m \u001b[1;32min\u001b[0m \u001b[0mrange\u001b[0m\u001b[1;33m(\u001b[0m\u001b[1;36m9\u001b[0m\u001b[1;33m)\u001b[0m\u001b[1;33m:\u001b[0m\u001b[1;33m\u001b[0m\u001b[1;33m\u001b[0m\u001b[0m\n\u001b[0;32m      5\u001b[0m     \u001b[0mfa\u001b[0m\u001b[1;33m.\u001b[0m\u001b[0mappend\u001b[0m\u001b[1;33m(\u001b[0m\u001b[0mf\u001b[0m\u001b[1;33m.\u001b[0m\u001b[0mnext\u001b[0m\u001b[1;33m(\u001b[0m\u001b[1;33m)\u001b[0m\u001b[1;33m)\u001b[0m\u001b[1;33m\u001b[0m\u001b[1;33m\u001b[0m\u001b[0m\n",
      "\u001b[1;31mNameError\u001b[0m: name 'Fibs' is not defined"
     ]
    }
   ],
   "source": [
    "f=Fibs()\n",
    "fa=[]\n",
    "fb=[]\n",
    "for i in range(9):\n",
    "    fa.append(f.next())\n",
    "print(\"fa={}\".format(fa))\n",
    "for i in range(5):\n",
    "    fb.append(f.next())\n",
    "print(\"fb={}\".format(fb))"
   ]
  },
  {
   "cell_type": "code",
   "execution_count": 65,
   "id": "c29b8ad5",
   "metadata": {},
   "outputs": [
    {
     "name": "stdout",
     "output_type": "stream",
     "text": [
      "lst_d=[14, 22, 30, 38, 46, 54, 62, 70, 78, 86, 94, 102, 110, 118, 126, 134, 142, 150, 158, 166, 174, 182, 190, 198]\n",
      "next(lst_iter)->14\n",
      "next(lst_iter)->22\n",
      "30\n",
      "38\n",
      "46\n",
      "54\n",
      "62\n",
      "70\n",
      "78\n",
      "86\n",
      "94\n",
      "102\n",
      "110\n",
      "118\n",
      "126\n",
      "134\n",
      "142\n",
      "150\n",
      "158\n",
      "166\n",
      "174\n",
      "182\n",
      "190\n",
      "198\n"
     ]
    },
    {
     "ename": "StopIteration",
     "evalue": "",
     "output_type": "error",
     "traceback": [
      "\u001b[1;31m---------------------------------------------------------------------------\u001b[0m",
      "\u001b[1;31mStopIteration\u001b[0m                             Traceback (most recent call last)",
      "\u001b[1;32m<ipython-input-65-62f8d24ebe38>\u001b[0m in \u001b[0;36m<module>\u001b[1;34m\u001b[0m\n\u001b[0;32m      6\u001b[0m \u001b[1;32mfor\u001b[0m \u001b[0mi\u001b[0m \u001b[1;32min\u001b[0m \u001b[0mlst_iter\u001b[0m\u001b[1;33m:\u001b[0m\u001b[1;33m\u001b[0m\u001b[1;33m\u001b[0m\u001b[0m\n\u001b[0;32m      7\u001b[0m     \u001b[0mprint\u001b[0m\u001b[1;33m(\u001b[0m\u001b[0mi\u001b[0m\u001b[1;33m)\u001b[0m\u001b[1;33m\u001b[0m\u001b[1;33m\u001b[0m\u001b[0m\n\u001b[1;32m----> 8\u001b[1;33m \u001b[0mnext\u001b[0m\u001b[1;33m(\u001b[0m\u001b[0mlst_iter\u001b[0m\u001b[1;33m)\u001b[0m\u001b[1;33m\u001b[0m\u001b[1;33m\u001b[0m\u001b[0m\n\u001b[0m",
      "\u001b[1;31mStopIteration\u001b[0m: "
     ]
    }
   ],
   "source": [
    "lst_d=list(range(14,200,8))\n",
    "print(\"lst_d={}\".format(lst_d))\n",
    "lst_iter=iter(lst_d)\n",
    "print(\"next(lst_iter)->{}\".format(next(lst_iter)))\n",
    "print(\"next(lst_iter)->{}\".format(next(lst_iter)))\n",
    "for i in lst_iter:\n",
    "    print(i)\n",
    "next(lst_iter)"
   ]
  },
  {
   "cell_type": "code",
   "execution_count": 68,
   "id": "d9b3c947",
   "metadata": {},
   "outputs": [
    {
     "name": "stdout",
     "output_type": "stream",
     "text": [
      "lst_e=[[33, 66, 99, 132, 165, 198, 231, 264, 297, 330, 363, 396, 429, 462, 495, 528, 561, 594, 627, 660, 693, 726, 759, 792, 825, 858, 891, 924, 957, 990, 1023, 1056, 1089, 1122, 1155, 1188, 1221, 1254, 1287, 1320, 1353, 1386, 1419, 1452, 1485, 1518, 1551, 1584, 1617, 1650, 1683, 1716, 1749, 1782, 1815, 1848, 1881, 1914, 1947, 1980], [2, 8, 67, [0, 1, 2, 3, 4], 98]]\n",
      "flatten_lst=[33, 66, 99, 132, 165, 198, 231, 264, 297, 330, 363, 396, 429, 462, 495, 528, 561, 594, 627, 660, 693, 726, 759, 792, 825, 858, 891, 924, 957, 990, 1023, 1056, 1089, 1122, 1155, 1188, 1221, 1254, 1287, 1320, 1353, 1386, 1419, 1452, 1485, 1518, 1551, 1584, 1617, 1650, 1683, 1716, 1749, 1782, 1815, 1848, 1881, 1914, 1947, 1980, 2, 8, 67, 0, 1, 2, 3, 4, 98]\n"
     ]
    }
   ],
   "source": [
    "lst_e=[list(range(33,2000,33)),[2,8,67,list(range(5)),98]]\n",
    "print(\"lst_e={}\".format(lst_e))\n",
    "flatten_lst=[]\n",
    "for v_1 in lst_e:\n",
    "    try:\n",
    "        for v_2 in v_1:\n",
    "            try:\n",
    "                for v_3 in v_2:\n",
    "                    flatten_lst.append(v_3)\n",
    "            except TypeError:\n",
    "                flatten_lst.append(v_2)\n",
    "    except TypeError:\n",
    "        flatten_lst.append(v_1)\n",
    "print(\"flatten_lst={}\".format(flatten_lst))"
   ]
  },
  {
   "cell_type": "code",
   "execution_count": 74,
   "id": "5285cf48",
   "metadata": {},
   "outputs": [
    {
     "name": "stdout",
     "output_type": "stream",
     "text": [
      "list(flatten(lst_e))->[33, 66, 99, 132, 165, 198, 231, 264, 297, 330, 363, 396, 429, 462, 495, 528, 561, 594, 627, 660, 693, 726, 759, 792, 825, 858, 891, 924, 957, 990, 1023, 1056, 1089, 1122, 1155, 1188, 1221, 1254, 1287, 1320, 1353, 1386, 1419, 1452, 1485, 1518, 1551, 1584, 1617, 1650, 1683, 1716, 1749, 1782, 1815, 1848, 1881, 1914, 1947, 1980, 2, 8, 67, 0, 1, 2, 3, 4, 98]\n"
     ]
    }
   ],
   "source": [
    "print(\"list(flatten(lst_e))->{}\".format(list(flatten(lst_e))))"
   ]
  },
  {
   "cell_type": "code",
   "execution_count": 76,
   "id": "f975f55a",
   "metadata": {},
   "outputs": [],
   "source": [
    "def infinite():\n",
    "    n=0\n",
    "    while True:\n",
    "        yield 'num#'+str(n)\n",
    "        n+=1"
   ]
  },
  {
   "cell_type": "code",
   "execution_count": 77,
   "id": "c151b64b",
   "metadata": {},
   "outputs": [
    {
     "name": "stdout",
     "output_type": "stream",
     "text": [
      "next(n)->num#0\n",
      "next(n)->num#1\n",
      "next(n)->num#2\n",
      "[next(n) for i in range(5)]->['num#3', 'num#4', 'num#5', 'num#6', 'num#7']\n"
     ]
    }
   ],
   "source": [
    "n=infinite()\n",
    "print(\"next(n)->{}\".format(next(n)))\n",
    "print(\"next(n)->{}\".format(next(n)))\n",
    "print(\"next(n)->{}\".format(next(n)))\n",
    "print(\"[next(n) for i in range(5)]->{}\".format([next(n) for i in range(5)]))"
   ]
  },
  {
   "cell_type": "code",
   "execution_count": 82,
   "id": "bee6362e",
   "metadata": {},
   "outputs": [
    {
     "name": "stdout",
     "output_type": "stream",
     "text": [
      "f_convert_a('3.141592653')->3.141592653\n",
      "f_convert_a('string')->string\n",
      "f_convert_a(33,66,77)->(33, 66, 77)\n"
     ]
    }
   ],
   "source": [
    "def f_convert_a(x):\n",
    "    try:\n",
    "        return float(x)\n",
    "    except:\n",
    "        return x\n",
    "print(\"f_convert_a('3.141592653')->{}\".format(f_convert_a('3.141592653')))    \n",
    "print(\"f_convert_a('string')->{}\".format(f_convert_a('string')))  \n",
    "print(\"f_convert_a(33,66,77)->{}\".format(f_convert_a((33,66,77))))"
   ]
  },
  {
   "cell_type": "code",
   "execution_count": 84,
   "id": "060cd7e6",
   "metadata": {},
   "outputs": [
    {
     "name": "stdout",
     "output_type": "stream",
     "text": [
      "f_convert_b('3.141592653')->3.141592653\n",
      "f_convert_b('string')->string\n"
     ]
    },
    {
     "ename": "TypeError",
     "evalue": "float() argument must be a string or a number, not 'tuple'",
     "output_type": "error",
     "traceback": [
      "\u001b[1;31m---------------------------------------------------------------------------\u001b[0m",
      "\u001b[1;31mTypeError\u001b[0m                                 Traceback (most recent call last)",
      "\u001b[1;32m<ipython-input-84-694889ccce77>\u001b[0m in \u001b[0;36m<module>\u001b[1;34m\u001b[0m\n\u001b[0;32m      6\u001b[0m \u001b[0mprint\u001b[0m\u001b[1;33m(\u001b[0m\u001b[1;34m\"f_convert_b('3.141592653')->{}\"\u001b[0m\u001b[1;33m.\u001b[0m\u001b[0mformat\u001b[0m\u001b[1;33m(\u001b[0m\u001b[0mf_convert_b\u001b[0m\u001b[1;33m(\u001b[0m\u001b[1;34m'3.141592653'\u001b[0m\u001b[1;33m)\u001b[0m\u001b[1;33m)\u001b[0m\u001b[1;33m)\u001b[0m\u001b[1;33m\u001b[0m\u001b[1;33m\u001b[0m\u001b[0m\n\u001b[0;32m      7\u001b[0m \u001b[0mprint\u001b[0m\u001b[1;33m(\u001b[0m\u001b[1;34m\"f_convert_b('string')->{}\"\u001b[0m\u001b[1;33m.\u001b[0m\u001b[0mformat\u001b[0m\u001b[1;33m(\u001b[0m\u001b[0mf_convert_b\u001b[0m\u001b[1;33m(\u001b[0m\u001b[1;34m'string'\u001b[0m\u001b[1;33m)\u001b[0m\u001b[1;33m)\u001b[0m\u001b[1;33m)\u001b[0m\u001b[1;33m\u001b[0m\u001b[1;33m\u001b[0m\u001b[0m\n\u001b[1;32m----> 8\u001b[1;33m \u001b[0mprint\u001b[0m\u001b[1;33m(\u001b[0m\u001b[1;34m\"f_convert_b(33,66,77)->{}\"\u001b[0m\u001b[1;33m.\u001b[0m\u001b[0mformat\u001b[0m\u001b[1;33m(\u001b[0m\u001b[0mf_convert_b\u001b[0m\u001b[1;33m(\u001b[0m\u001b[1;33m(\u001b[0m\u001b[1;36m33\u001b[0m\u001b[1;33m,\u001b[0m\u001b[1;36m66\u001b[0m\u001b[1;33m,\u001b[0m\u001b[1;36m77\u001b[0m\u001b[1;33m)\u001b[0m\u001b[1;33m)\u001b[0m\u001b[1;33m)\u001b[0m\u001b[1;33m)\u001b[0m\u001b[1;33m\u001b[0m\u001b[1;33m\u001b[0m\u001b[0m\n\u001b[0m",
      "\u001b[1;32m<ipython-input-84-694889ccce77>\u001b[0m in \u001b[0;36mf_convert_b\u001b[1;34m(x)\u001b[0m\n\u001b[0;32m      1\u001b[0m \u001b[1;32mdef\u001b[0m \u001b[0mf_convert_b\u001b[0m\u001b[1;33m(\u001b[0m\u001b[0mx\u001b[0m\u001b[1;33m)\u001b[0m\u001b[1;33m:\u001b[0m\u001b[1;33m\u001b[0m\u001b[1;33m\u001b[0m\u001b[0m\n\u001b[0;32m      2\u001b[0m     \u001b[1;32mtry\u001b[0m\u001b[1;33m:\u001b[0m\u001b[1;33m\u001b[0m\u001b[1;33m\u001b[0m\u001b[0m\n\u001b[1;32m----> 3\u001b[1;33m         \u001b[1;32mreturn\u001b[0m \u001b[0mfloat\u001b[0m\u001b[1;33m(\u001b[0m\u001b[0mx\u001b[0m\u001b[1;33m)\u001b[0m\u001b[1;33m\u001b[0m\u001b[1;33m\u001b[0m\u001b[0m\n\u001b[0m\u001b[0;32m      4\u001b[0m     \u001b[1;32mexcept\u001b[0m \u001b[0mValueError\u001b[0m\u001b[1;33m:\u001b[0m\u001b[1;33m\u001b[0m\u001b[1;33m\u001b[0m\u001b[0m\n\u001b[0;32m      5\u001b[0m         \u001b[1;32mreturn\u001b[0m \u001b[0mx\u001b[0m\u001b[1;33m\u001b[0m\u001b[1;33m\u001b[0m\u001b[0m\n",
      "\u001b[1;31mTypeError\u001b[0m: float() argument must be a string or a number, not 'tuple'"
     ]
    }
   ],
   "source": [
    "def f_convert_b(x):\n",
    "    try:\n",
    "        return float(x)\n",
    "    except ValueError:\n",
    "        return x\n",
    "print(\"f_convert_b('3.141592653')->{}\".format(f_convert_b('3.141592653')))    \n",
    "print(\"f_convert_b('string')->{}\".format(f_convert_b('string')))  \n",
    "print(\"f_convert_b(33,66,77)->{}\".format(f_convert_b((33,66,77))))  \n"
   ]
  },
  {
   "cell_type": "code",
   "execution_count": 86,
   "id": "22b74833",
   "metadata": {},
   "outputs": [
    {
     "name": "stdout",
     "output_type": "stream",
     "text": [
      "f_convert_c('3.141592653')->3.141592653\n",
      "f_convert_c('string')->string\n",
      "(33, 66, 77) TypeError\n",
      "f_convert_c(33,66,77)->None\n"
     ]
    }
   ],
   "source": [
    "def f_convert_c(x):\n",
    "    try:\n",
    "        return float(x)\n",
    "    except ValueError:\n",
    "        return x\n",
    "    except TypeError:\n",
    "        print(x,'TypeError')\n",
    "print(\"f_convert_c('3.141592653')->{}\".format(f_convert_c('3.141592653')))    \n",
    "print(\"f_convert_c('string')->{}\".format(f_convert_c('string')))  \n",
    "print(\"f_convert_c(33,66,77)->{}\".format(f_convert_c((33,66,77))))         "
   ]
  },
  {
   "cell_type": "code",
   "execution_count": 87,
   "id": "99ed1474",
   "metadata": {},
   "outputs": [
    {
     "name": "stdout",
     "output_type": "stream",
     "text": [
      "f_convert_d('3.141592653')->3.141592653\n",
      "string ValueError or TypeError\n",
      "f_convert_d('string')->None\n",
      "(33, 66, 77) ValueError or TypeError\n",
      "f_convert_d(33,66,77)->None\n"
     ]
    }
   ],
   "source": [
    "def f_convert_d(x):\n",
    "    try:\n",
    "        return float(x)\n",
    "    except (ValueError,TypeError):\n",
    "        print(x,'ValueError or TypeError')\n",
    "print(\"f_convert_d('3.141592653')->{}\".format(f_convert_d('3.141592653')))    \n",
    "print(\"f_convert_d('string')->{}\".format(f_convert_d('string')))  \n",
    "print(\"f_convert_d(33,66,77)->{}\".format(f_convert_d((33,66,77)))) "
   ]
  },
  {
   "cell_type": "code",
   "execution_count": 88,
   "id": "cd13e448",
   "metadata": {},
   "outputs": [
    {
     "name": "stdout",
     "output_type": "stream",
     "text": [
      "f_convert_e('3.1415926')->3.1415926\n",
      "string could not convert string to float: 'string'\n",
      "f_convert_e('string')->None\n",
      "(33, 66, 77) float() argument must be a string or a number, not 'tuple'\n",
      "f_convert_e(33,66,77)->None\n"
     ]
    }
   ],
   "source": [
    "def f_convert_e(x):\n",
    "    try:\n",
    "        return float(x)\n",
    "    except (ValueError,TypeError) as e:\n",
    "        return print(x,e)\n",
    "print(\"f_convert_e('3.1415926')->{}\".format(f_convert_e('3.1415926')))    \n",
    "print(\"f_convert_e('string')->{}\".format(f_convert_e('string')))  \n",
    "print(\"f_convert_e(33,66,77)->{}\".format(f_convert_e((33,66,77))))    "
   ]
  },
  {
   "cell_type": "code",
   "execution_count": 89,
   "id": "74f59845",
   "metadata": {},
   "outputs": [
    {
     "name": "stdout",
     "output_type": "stream",
     "text": [
      "f_convert_f('3.14159263736463738273729748')->3.1415926373646372\n",
      "f_convert_f('string')->None\n",
      "f_convert_f(3234,6456,456457)->None\n"
     ]
    }
   ],
   "source": [
    "def f_convert_f(x):\n",
    "    try:\n",
    "        return float(x)\n",
    "    except (ValueError,TypeError) as e:\n",
    "        pass\n",
    "print(\"f_convert_f('3.14159263736463738273729748')->{}\".format(f_convert_f('3.14159263736463738273729748')))    \n",
    "print(\"f_convert_f('string')->{}\".format(f_convert_f('string')))  \n",
    "print(\"f_convert_f(3234,6456,456457)->{}\".format(f_convert_f((3234,6456,456457))))     "
   ]
  },
  {
   "cell_type": "code",
   "execution_count": 90,
   "id": "f17d8129",
   "metadata": {},
   "outputs": [
    {
     "name": "stdout",
     "output_type": "stream",
     "text": [
      "Unable to open ./data/tryException.txt :[Errno 2] No such file or directory: './data/tryException.txt'\n",
      "\n",
      "tryException_content->None\n",
      "Unable to open ./data/tryException_.txt :[Errno 2] No such file or directory: './data/tryException_.txt'\n",
      "\n"
     ]
    }
   ],
   "source": [
    "def f_open_a(fp):\n",
    "    try:\n",
    "        f=open(fp,'r')\n",
    "    except IOError as e:\n",
    "        print('Unable to open',fp,':%s\\n' %e)\n",
    "    else:\n",
    "        data=f.read()\n",
    "        f.close\n",
    "        return data\n",
    "tryException_content=f_open_a(\"./data/tryException.txt\")   \n",
    "print(\"tryException_content->{}\".format(tryException_content))\n",
    "f_open_a(\"./data/tryException_.txt\")\n"
   ]
  },
  {
   "cell_type": "code",
   "execution_count": 91,
   "id": "3e803092",
   "metadata": {},
   "outputs": [
    {
     "name": "stdout",
     "output_type": "stream",
     "text": [
      "Unable to open ./data/tryException.txt :[Errno 2] No such file or directory: './data/tryException.txt'\n",
      "\n",
      "done!\n"
     ]
    }
   ],
   "source": [
    "def f_open_b(fp):\n",
    "    try:\n",
    "        f=open(fp,'r')\n",
    "    except IOError as e:\n",
    "        print('Unable to open',fp,':%s\\n' %e)\n",
    "    else:\n",
    "        data=f.read()\n",
    "        f.close()\n",
    "        return data\n",
    "    finally:\n",
    "        print('done!')\n",
    "f_open_b(\"./data/tryException.txt\")        "
   ]
  },
  {
   "cell_type": "code",
   "execution_count": 94,
   "id": "7b41b1c3",
   "metadata": {},
   "outputs": [],
   "source": [
    "x=20\n",
    "assert x>0 #为真则不做任何事情"
   ]
  },
  {
   "cell_type": "code",
   "execution_count": 96,
   "id": "1abdc8cc",
   "metadata": {},
   "outputs": [
    {
     "ename": "AssertionError",
     "evalue": "",
     "output_type": "error",
     "traceback": [
      "\u001b[1;31m---------------------------------------------------------------------------\u001b[0m",
      "\u001b[1;31mAssertionError\u001b[0m                            Traceback (most recent call last)",
      "\u001b[1;32m<ipython-input-96-ba7c61fb1b4f>\u001b[0m in \u001b[0;36m<module>\u001b[1;34m\u001b[0m\n\u001b[1;32m----> 1\u001b[1;33m \u001b[1;32massert\u001b[0m \u001b[0mx\u001b[0m\u001b[1;33m<\u001b[0m\u001b[1;36m0\u001b[0m \u001b[1;31m#为假则引发AssertionError异常\u001b[0m\u001b[1;33m\u001b[0m\u001b[1;33m\u001b[0m\u001b[0m\n\u001b[0m",
      "\u001b[1;31mAssertionError\u001b[0m: "
     ]
    }
   ],
   "source": [
    "assert x<0 #为假则引发AssertionError异常\n"
   ]
  },
  {
   "cell_type": "code",
   "execution_count": null,
   "id": "f1dd030f",
   "metadata": {},
   "outputs": [],
   "source": []
  }
 ],
 "metadata": {
  "kernelspec": {
   "display_name": "Python 3",
   "language": "python",
   "name": "python3"
  },
  "language_info": {
   "codemirror_mode": {
    "name": "ipython",
    "version": 3
   },
   "file_extension": ".py",
   "mimetype": "text/x-python",
   "name": "python",
   "nbconvert_exporter": "python",
   "pygments_lexer": "ipython3",
   "version": "3.8.8"
  }
 },
 "nbformat": 4,
 "nbformat_minor": 5
}
